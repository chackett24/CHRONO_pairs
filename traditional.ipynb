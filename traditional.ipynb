{
 "cells": [
  {
   "cell_type": "code",
   "execution_count": 34,
   "id": "65b94855-d7bc-4228-a8f9-2572f1870046",
   "metadata": {},
   "outputs": [
    {
     "name": "stderr",
     "output_type": "stream",
     "text": [
      "[*********************100%***********************]  4 of 4 completed\n"
     ]
    }
   ],
   "source": [
    "import yfinance as yf\n",
    "import pandas as pd\n",
    "import numpy as np\n",
    "from datetime import datetime\n",
    "\n",
    "stocks = ['AMD', 'NVDA', 'META', 'TSLA']\n",
    "start = datetime(2018, 1, 1)\n",
    "end = datetime(2024, 4, 30)\n",
    "\n",
    "stock_prices = yf.download(stocks, start, end, auto_adjust=False)\n",
    "stock_prices = stock_prices.resample('ME').last()\n",
    "stock_prices.index = stock_prices.index.tz_localize(None)\n",
    "stock_prices = stock_prices.filter(like='Adj Close')\n",
    "stock_prices.columns = stock_prices.columns.get_level_values(1)\n",
    "\n",
    "pairs = [('AMD', 'NVDA'), ('AMD', 'META'), ('NVDA', 'TSLA')]\n",
    "spread_list = []\n",
    "\n",
    "for pair in pairs:\n",
    "    ticker_1, ticker_2 = pair\n",
    "    spread = np.log(stock_prices[ticker_1]) - np.log(stock_prices[ticker_2])\n",
    "    \n",
    "    spread_mean = spread.expanding().mean()\n",
    "    spread_std = spread.expanding().std()\n",
    "    z_score = (spread - spread_mean) / spread_std\n",
    "\n",
    "    position = np.where(z_score > 0, 'Sell', 'Buy')\n",
    "    \n",
    "    pair_df = pd.DataFrame({\n",
    "        'Date': spread.index,\n",
    "        'Ticker Pair': f'{ticker_1}-{ticker_2}',\n",
    "        'Traditional Spread': spread.values,\n",
    "        'Traditional Z-score': z_score.values,\n",
    "        'Traditional Position': position\n",
    "    })\n",
    "\n",
    "    spread_list.append(pair_df)\n",
    "\n",
    "full_traditional_df = pd.concat(spread_list)\n",
    "full_traditional_df.to_csv(\"outputs/traditional_dummy2.csv\", index=False)"
   ]
  },
  {
   "cell_type": "code",
   "execution_count": 74,
   "id": "f1903349-1da7-4a2c-9865-d008808642e2",
   "metadata": {},
   "outputs": [],
   "source": [
    "df = pd.read_csv(\"traditional_dummy2.csv\", parse_dates=[\"Date\"])\n",
    "\n",
    "returns = pd.read_csv(\"outputs/returns.csv\", parse_dates=[\"Date\"])\n",
    "merged_df = df.merge(returns, on=[\"Date\", \"Ticker Pair\"], how=\"left\")\n",
    "\n",
    "merged_df[\"Position\"] = np.where(\n",
    "    merged_df[\"Traditional Position\"] == \"Buy\", 1,\n",
    "    np.where(merged_df[\"Traditional Position\"] == \"Sell\", -1, 0)\n",
    ")\n",
    "\n",
    "merged_df[\"Strategy Return\"] = merged_df[\"Position\"].shift(1) * merged_df[\"Return\"]\n",
    "\n",
    "merged_df[\"Strategy Net Return\"] = merged_df[\"Strategy Return\"] - 0.001 * np.abs(merged_df[\"Position\"].diff().fillna(0))\n",
    "\n",
    "merged_df.to_csv(\"outputs/traditional_results.csv\", index=False)"
   ]
  },
  {
   "cell_type": "code",
   "execution_count": 76,
   "id": "3033550a-cde0-4137-a4da-361491e07a7c",
   "metadata": {},
   "outputs": [],
   "source": [
    "spreads = pd.read_csv('outputs/spreads.csv', parse_dates=['Date'])\n",
    "market_data = pd.read_csv('outputs/returns.csv', parse_dates=['Date'])\n",
    "market_prices = market_data.pivot(index='Date', columns='Ticker', values='Adj Close')"
   ]
  },
  {
   "cell_type": "code",
   "execution_count": 78,
   "id": "0520e7db-722f-412d-bfd3-d91822f3f57e",
   "metadata": {},
   "outputs": [
    {
     "name": "stdout",
     "output_type": "stream",
     "text": [
      "P-value for cointegration test: 0.013859040978177854\n",
      "Cointegrated? True\n"
     ]
    }
   ],
   "source": [
    "pair_prices = market_prices[['AMD', 'NVDA']].dropna()\n",
    "result = coint(pair_prices['AMD'], pair_prices['NVDA'])\n",
    "print(\"P-value for cointegration test:\", result[1])\n",
    "print(\"Cointegrated?\" , result[1] < 0.05)"
   ]
  },
  {
   "cell_type": "code",
   "execution_count": 90,
   "id": "006c76db-7431-414f-b59e-5921568727ad",
   "metadata": {},
   "outputs": [],
   "source": [
    "class TraditionalPairsTrading:\n",
    "    def __init__(self, window=24, z_threshold=1.5):\n",
    "        self.window = window\n",
    "        self.z_threshold = z_threshold\n",
    "\n",
    "    def calculate_features(self, df):\n",
    "        df['Rolling_Mean'] = df.groupby('Ticker Pair')['Spread'].rolling(\n",
    "            self.window, min_periods=int(self.window*0.8)).mean().values\n",
    "        df['Rolling_Std'] = df.groupby('Ticker Pair')['Spread'].rolling(\n",
    "            self.window, min_periods=int(self.window*0.8)).std().values\n",
    "        df['Z_Score'] = (df['Spread'] - df['Rolling_Mean']) / df['Rolling_Std']\n",
    "        return df.dropna()\n",
    "\n",
    "    def generate_signals(self, df):\n",
    "        df['Position'] = np.select(\n",
    "            [df['Z_Score'] > self.z_threshold, df['Z_Score'] < -self.z_threshold],\n",
    "            ['Sell', 'Buy'],\n",
    "            default='Hold'\n",
    "        )\n",
    "        return df\n",
    "\n",
    "    def backtest(self, df):\n",
    "        df['Strategy_Return'] = df['Return'] * df['Position'].map({'Buy':1, 'Sell':-1, 'Hold':0})\n",
    "        df['Cumulative_Return'] = (1 + df['Strategy_Return']).cumprod()\n",
    "        return df"
   ]
  },
  {
   "cell_type": "code",
   "execution_count": 92,
   "id": "74c032fc-2dc0-4cf9-bbfd-bc0bedc669de",
   "metadata": {},
   "outputs": [],
   "source": [
    "from sklearn.model_selection import ParameterGrid\n",
    "import numpy as np\n",
    "\n",
    "def calculate_sharpe_ratio(df, risk_free_rate=0.02):\n",
    "    excess_returns = df['Strategy_Return'] - risk_free_rate / 252\n",
    "    return np.sqrt(252) * excess_returns.mean() / excess_returns.std()\n",
    "\n",
    "def calculate_max_drawdown(cum_returns):\n",
    "    peak = cum_returns.cummax()\n",
    "    drawdown = (cum_returns - peak) / peak\n",
    "    return drawdown.min()\n",
    "\n",
    "def optimize_parameters(train_data):\n",
    "    param_grid = {\n",
    "        'window': [12, 24, 36],\n",
    "        'z_threshold': [1.0, 1.5, 2.0]\n",
    "    }\n",
    "\n",
    "    best_sharpe = -np.inf\n",
    "    best_params = None\n",
    "\n",
    "    for params in ParameterGrid(param_grid):\n",
    "        strategy = TraditionalPairsTrading(**params)\n",
    "        df_processed = strategy.calculate_features(train_data.copy())\n",
    "\n",
    "        if df_processed.empty:\n",
    "            continue\n",
    "\n",
    "        df_with_signals = strategy.generate_signals(df_processed)\n",
    "        df_backtest = strategy.backtest(df_with_signals)\n",
    "\n",
    "        if df_backtest['Strategy_Return'].std() == 0:\n",
    "            continue\n",
    "\n",
    "        sharpe = calculate_sharpe_ratio(df_backtest)\n",
    "        print(f\"Tested {params} → Sharpe = {sharpe:.4f}\")\n",
    "\n",
    "        if np.isfinite(sharpe) and sharpe > best_sharpe:\n",
    "            best_sharpe = sharpe\n",
    "            best_params = params\n",
    "\n",
    "    if best_params is None:\n",
    "        print(\"⚠️ No valid parameter found. Using fallback default...\")\n",
    "        best_params = {'window': 24, 'z_threshold': 1.5}\n",
    "\n",
    "    return best_params"
   ]
  },
  {
   "cell_type": "code",
   "execution_count": null,
   "id": "c70bbccb-50b7-4325-8493-670c74fb0168",
   "metadata": {},
   "outputs": [],
   "source": []
  }
 ],
 "metadata": {
  "kernelspec": {
   "display_name": "Python [conda env:base] *",
   "language": "python",
   "name": "conda-base-py"
  },
  "language_info": {
   "codemirror_mode": {
    "name": "ipython",
    "version": 3
   },
   "file_extension": ".py",
   "mimetype": "text/x-python",
   "name": "python",
   "nbconvert_exporter": "python",
   "pygments_lexer": "ipython3",
   "version": "3.12.7"
  }
 },
 "nbformat": 4,
 "nbformat_minor": 5
}
