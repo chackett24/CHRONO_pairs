{
 "cells": [
  {
   "cell_type": "code",
   "execution_count": 59,
   "id": "65b94855-d7bc-4228-a8f9-2572f1870046",
   "metadata": {},
   "outputs": [],
   "source": [
    "import pandas as pd\n",
    "import numpy as np\n",
    "from statsmodels.tsa.stattools import coint\n",
    "from sklearn.model_selection import ParameterGrid\n",
    "import matplotlib.pyplot as plt"
   ]
  },
  {
   "cell_type": "code",
   "execution_count": 74,
   "id": "f1903349-1da7-4a2c-9865-d008808642e2",
   "metadata": {},
   "outputs": [],
   "source": [
    "trad = pd.read_csv(\"outputs/traditional_dummy.csv\")\n",
    "trad['Date'] = pd.to_datetime(trad['Date'])  \n",
    "trad['position'] = trad['Traditional Position'].map({'Buy': 1, 'Sell': -1})\n",
    "\n",
    "spreads = pd.read_csv(\"outputs/spreads.csv\")\n",
    "spreads['Date'] = pd.to_datetime(spreads['Date'])\n",
    "\n",
    "returns = pd.read_csv(\"outputs/returns.csv\")\n",
    "returns['Date'] = pd.to_datetime(returns['Date'])"
   ]
  },
  {
   "cell_type": "code",
   "execution_count": 76,
   "id": "3033550a-cde0-4137-a4da-361491e07a7c",
   "metadata": {},
   "outputs": [],
   "source": [
    "spreads = pd.read_csv('outputs/spreads.csv', parse_dates=['Date'])\n",
    "market_data = pd.read_csv('outputs/returns.csv', parse_dates=['Date'])\n",
    "market_prices = market_data.pivot(index='Date', columns='Ticker', values='Adj Close')"
   ]
  },
  {
   "cell_type": "code",
   "execution_count": 78,
   "id": "0520e7db-722f-412d-bfd3-d91822f3f57e",
   "metadata": {},
   "outputs": [
    {
     "name": "stdout",
     "output_type": "stream",
     "text": [
      "P-value for cointegration test: 0.013859040978177854\n",
      "Cointegrated? True\n"
     ]
    }
   ],
   "source": [
    "pair_prices = market_prices[['AMD', 'NVDA']].dropna()\n",
    "result = coint(pair_prices['AMD'], pair_prices['NVDA'])\n",
    "print(\"P-value for cointegration test:\", result[1])\n",
    "print(\"Cointegrated?\" , result[1] < 0.05)"
   ]
  },
  {
   "cell_type": "code",
   "execution_count": 82,
   "id": "006c76db-7431-414f-b59e-5921568727ad",
   "metadata": {},
   "outputs": [],
   "source": [
    "class TraditionalPairsTrading:\n",
    "    def __init__(self, window=24, z_threshold=1.5):\n",
    "        self.window = window\n",
    "        self.z_threshold = z_threshold\n",
    "\n",
    "    def calculate_features(self, df):\n",
    "        df['Rolling_Mean'] = df.groupby('Ticker Pair')['Spread'].rolling(\n",
    "            self.window, min_periods=int(self.window*0.8)).mean().values\n",
    "        df['Rolling_Std'] = df.groupby('Ticker Pair')['Spread'].rolling(\n",
    "            self.window, min_periods=int(self.window*0.8)).std().values\n",
    "        df['Z_Score'] = (df['Spread'] - df['Rolling_Mean']) / df['Rolling_Std']\n",
    "        return df.dropna()\n",
    "\n",
    "    def generate_signals(self, df):\n",
    "        df['Position'] = np.select(\n",
    "            [df['Z_Score'] > self.z_threshold, df['Z_Score'] < -self.z_threshold],\n",
    "            ['Sell', 'Buy'],\n",
    "            default='Hold'\n",
    "        )\n",
    "        return df\n",
    "\n",
    "    def backtest(self, df):\n",
    "        df['Strategy_Return'] = df['Return'] * df['Position'].map({'Buy':1, 'Sell':-1, 'Hold':0})\n",
    "        df['Cumulative_Return'] = (1 + df['Strategy_Return']).cumprod()\n",
    "        return df"
   ]
  },
  {
   "cell_type": "code",
   "execution_count": null,
   "id": "284856f5-64a1-48cd-b0d3-5ac56d3d98b4",
   "metadata": {},
   "outputs": [],
   "source": []
  },
  {
   "cell_type": "code",
   "execution_count": 5,
   "id": "74c032fc-2dc0-4cf9-bbfd-bc0bedc669de",
   "metadata": {},
   "outputs": [],
   "source": [
    "from sklearn.model_selection import ParameterGrid\n",
    "import numpy as np\n",
    "\n",
    "def calculate_sharpe_ratio(df, risk_free_rate=0.02):\n",
    "    excess_returns = df['Strategy_Return'] - risk_free_rate / 252\n",
    "    return np.sqrt(252) * excess_returns.mean() / excess_returns.std()\n",
    "\n",
    "def calculate_max_drawdown(cum_returns):\n",
    "    peak = cum_returns.cummax()\n",
    "    drawdown = (cum_returns - peak) / peak\n",
    "    return drawdown.min()\n",
    "\n",
    "def optimize_parameters(train_data):\n",
    "    param_grid = {\n",
    "        'window': [12, 24, 36],\n",
    "        'z_threshold': [1.0, 1.5, 2.0]\n",
    "    }\n",
    "\n",
    "    best_sharpe = -np.inf\n",
    "    best_params = None\n",
    "\n",
    "    for params in ParameterGrid(param_grid):\n",
    "        strategy = TraditionalPairsTrading(**params)\n",
    "        df_processed = strategy.calculate_features(train_data.copy())\n",
    "\n",
    "        if df_processed.empty:\n",
    "            continue\n",
    "\n",
    "        df_with_signals = strategy.generate_signals(df_processed)\n",
    "        df_backtest = strategy.backtest(df_with_signals)\n",
    "\n",
    "        if df_backtest['Strategy_Return'].std() == 0:\n",
    "            continue\n",
    "\n",
    "        sharpe = calculate_sharpe_ratio(df_backtest)\n",
    "        print(f\"Tested {params} → Sharpe = {sharpe:.4f}\")\n",
    "\n",
    "        if np.isfinite(sharpe) and sharpe > best_sharpe:\n",
    "            best_sharpe = sharpe\n",
    "            best_params = params\n",
    "\n",
    "    if best_params is None:\n",
    "        print(\"⚠️ No valid parameter found. Using fallback default...\")\n",
    "        best_params = {'window': 24, 'z_threshold': 1.5}\n",
    "\n",
    "    return best_params\n"
   ]
  },
  {
   "cell_type": "code",
   "execution_count": null,
   "id": "c70bbccb-50b7-4325-8493-670c74fb0168",
   "metadata": {},
   "outputs": [],
   "source": []
  }
 ],
 "metadata": {
  "kernelspec": {
   "display_name": "Python [conda env:base] *",
   "language": "python",
   "name": "conda-base-py"
  },
  "language_info": {
   "codemirror_mode": {
    "name": "ipython",
    "version": 3
   },
   "file_extension": ".py",
   "mimetype": "text/x-python",
   "name": "python",
   "nbconvert_exporter": "python",
   "pygments_lexer": "ipython3",
   "version": "3.12.7"
  }
 },
 "nbformat": 4,
 "nbformat_minor": 5
}
