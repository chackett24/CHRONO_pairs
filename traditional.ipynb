{
 "cells": [
  {
   "cell_type": "code",
   "execution_count": 34,
   "id": "65b94855-d7bc-4228-a8f9-2572f1870046",
   "metadata": {},
   "outputs": [
    {
     "name": "stderr",
     "output_type": "stream",
     "text": [
      "[*********************100%***********************]  4 of 4 completed\n"
     ]
    }
   ],
   "source": [
    "import yfinance as yf\n",
    "import pandas as pd\n",
    "import numpy as np\n",
    "from datetime import datetime\n",
    "\n",
    "stocks = ['AMD', 'NVDA', 'META', 'TSLA']\n",
    "start = datetime(2018, 1, 1)\n",
    "end = datetime(2024, 4, 30)\n",
    "\n",
    "stock_prices = yf.download(stocks, start, end, auto_adjust=False)\n",
    "stock_prices = stock_prices.resample('ME').last()\n",
    "stock_prices.index = stock_prices.index.tz_localize(None)\n",
    "stock_prices = stock_prices.filter(like='Adj Close')\n",
    "stock_prices.columns = stock_prices.columns.get_level_values(1)\n",
    "\n",
    "pairs = [('AMD', 'NVDA'), ('AMD', 'META'), ('NVDA', 'TSLA')]\n",
    "spread_list = []\n",
    "\n",
    "for pair in pairs:\n",
    "    ticker_1, ticker_2 = pair\n",
    "    spread = np.log(stock_prices[ticker_1]) - np.log(stock_prices[ticker_2])\n",
    "    \n",
    "    spread_mean = spread.expanding().mean()\n",
    "    spread_std = spread.expanding().std()\n",
    "    z_score = (spread - spread_mean) / spread_std\n",
    "\n",
    "    position = np.where(z_score > 0, 'Sell', 'Buy')\n",
    "    \n",
    "    pair_df = pd.DataFrame({\n",
    "        'Date': spread.index,\n",
    "        'Ticker Pair': f'{ticker_1}-{ticker_2}',\n",
    "        'Traditional Spread': spread.values,\n",
    "        'Traditional Z-score': z_score.values,\n",
    "        'Traditional Position': position\n",
    "    })\n",
    "\n",
    "    spread_list.append(pair_df)\n",
    "\n",
    "full_traditional_df = pd.concat(spread_list)\n",
    "full_traditional_df.to_csv(\"outputs/traditional_dummy2.csv\", index=False)"
   ]
  },
  {
   "cell_type": "code",
   "execution_count": 74,
   "id": "f1903349-1da7-4a2c-9865-d008808642e2",
   "metadata": {},
   "outputs": [],
   "source": [
    "df = pd.read_csv(\"traditional_dummy2.csv\", parse_dates=[\"Date\"])\n",
    "\n",
    "returns = pd.read_csv(\"outputs/returns.csv\", parse_dates=[\"Date\"])\n",
    "merged_df = df.merge(returns, on=[\"Date\", \"Ticker Pair\"], how=\"left\")\n",
    "\n",
    "merged_df[\"Position\"] = np.where(\n",
    "    merged_df[\"Traditional Position\"] == \"Buy\", 1,\n",
    "    np.where(merged_df[\"Traditional Position\"] == \"Sell\", -1, 0)\n",
    ")\n",
    "\n",
    "merged_df[\"Strategy Return\"] = merged_df[\"Position\"].shift(1) * merged_df[\"Return\"]\n",
    "\n",
    "merged_df[\"Strategy Net Return\"] = merged_df[\"Strategy Return\"] - 0.001 * np.abs(merged_df[\"Position\"].diff().fillna(0))\n",
    "\n",
    "merged_df.to_csv(\"outputs/traditional_results.csv\", index=False)"
   ]
  },
  {
   "cell_type": "code",
   "execution_count": null,
   "id": "c70bbccb-50b7-4325-8493-670c74fb0168",
   "metadata": {},
   "outputs": [],
   "source": []
  }
 ],
 "metadata": {
  "kernelspec": {
   "display_name": "Python [conda env:base] *",
   "language": "python",
   "name": "conda-base-py"
  },
  "language_info": {
   "codemirror_mode": {
    "name": "ipython",
    "version": 3
   },
   "file_extension": ".py",
   "mimetype": "text/x-python",
   "name": "python",
   "nbconvert_exporter": "python",
   "pygments_lexer": "ipython3",
   "version": "3.12.7"
  }
 },
 "nbformat": 4,
 "nbformat_minor": 5
}
