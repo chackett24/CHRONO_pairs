{
 "cells": [
  {
   "cell_type": "code",
   "execution_count": 8,
   "id": "be524c23-c74a-4ad1-9707-3f4c730db88c",
   "metadata": {},
   "outputs": [
    {
     "name": "stderr",
     "output_type": "stream",
     "text": [
      "\n",
      "2 Failed downloads:\n",
      "['AMD', 'NVDA']: YFRateLimitError('Too Many Requests. Rate limited. Try after a while.')\n"
     ]
    },
    {
     "name": "stdout",
     "output_type": "stream",
     "text": [
      "Empty DataFrame\n",
      "Columns: [AMD, NVDA]\n",
      "Index: []\n"
     ]
    }
   ],
   "source": [
    "#get return data\n",
    "#then calculate spread\n",
    "\n",
    "\n",
    "import yfinance as yf\n",
    "import pandas as pd\n",
    "import time\n",
    "\n",
    "\n",
    "tickers = ['AMD', 'NVDA']\n",
    "start = '2018-01-01'\n",
    "end = '2023-01-01'\n",
    "\n",
    "\n",
    "data = yf.download(tickers, start=start, end=end, progress=False, threads=False)['Adj Close']\n",
    "print(data.head())\n"
   ]
  },
  {
   "cell_type": "code",
   "execution_count": null,
   "id": "c0582cd5-2eab-4a6a-815b-8e929270526d",
   "metadata": {},
   "outputs": [],
   "source": [
    "data.to_csv(\"pair_prices.csv\")\n"
   ]
  }
 ],
 "metadata": {
  "kernelspec": {
   "display_name": "Python [conda env:base] *",
   "language": "python",
   "name": "conda-base-py"
  },
  "language_info": {
   "codemirror_mode": {
    "name": "ipython",
    "version": 3
   },
   "file_extension": ".py",
   "mimetype": "text/x-python",
   "name": "python",
   "nbconvert_exporter": "python",
   "pygments_lexer": "ipython3",
   "version": "3.11.7"
  }
 },
 "nbformat": 4,
 "nbformat_minor": 5
}
