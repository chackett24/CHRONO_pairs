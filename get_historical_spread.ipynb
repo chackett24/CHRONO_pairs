{
 "cells": [
  {
   "cell_type": "code",
   "execution_count": 18,
   "id": "be524c23-c74a-4ad1-9707-3f4c730db88c",
   "metadata": {},
   "outputs": [
    {
     "name": "stderr",
     "output_type": "stream",
     "text": [
      "[*********************100%***********************]  2 of 2 completed\n",
      "\n",
      "2 Failed downloads:\n",
      "['NVDA', 'AMD']: YFRateLimitError('Too Many Requests. Rate limited. Try after a while.')\n"
     ]
    },
    {
     "data": {
      "text/html": [
       "<div>\n",
       "<style scoped>\n",
       "    .dataframe tbody tr th:only-of-type {\n",
       "        vertical-align: middle;\n",
       "    }\n",
       "\n",
       "    .dataframe tbody tr th {\n",
       "        vertical-align: top;\n",
       "    }\n",
       "\n",
       "    .dataframe thead th {\n",
       "        text-align: right;\n",
       "    }\n",
       "</style>\n",
       "<table border=\"1\" class=\"dataframe\">\n",
       "  <thead>\n",
       "    <tr style=\"text-align: right;\">\n",
       "      <th>Ticker</th>\n",
       "      <th>AMD</th>\n",
       "      <th>NVDA</th>\n",
       "    </tr>\n",
       "    <tr>\n",
       "      <th>Date</th>\n",
       "      <th></th>\n",
       "      <th></th>\n",
       "    </tr>\n",
       "  </thead>\n",
       "  <tbody>\n",
       "  </tbody>\n",
       "</table>\n",
       "</div>"
      ],
      "text/plain": [
       "Empty DataFrame\n",
       "Columns: [AMD, NVDA]\n",
       "Index: []"
      ]
     },
     "execution_count": 18,
     "metadata": {},
     "output_type": "execute_result"
    }
   ],
   "source": [
    "#get return data\n",
    "#then calculate spread\n",
    "\n",
    "\n",
    "import yfinance as yf\n",
    "import pandas as pd\n",
    "import time\n",
    "from datetime import datetime\n",
    "\n",
    "stocks = ['AMD', 'NVDA']\n",
    "start = datetime(2016, 2, 1)\n",
    "end = datetime(2020, 4, 30)\n",
    "\n",
    "\n",
    "stock_prices         = yf.download(stocks, start , end)\n",
    "stock_prices.index   = stock_prices.index.tz_localize(None)      # change yf date format to match pdr\n",
    "stock_prices         = stock_prices.filter(like='Adj Close')     # reduce to just columns with this in the name\n",
    "stock_prices.columns = stock_prices.columns.get_level_values(1)  # tickers as col names, works no matter order of tics\n",
    "stock_prices # uncomment to print and see"
   ]
  },
  {
   "cell_type": "code",
   "execution_count": null,
   "id": "5d084b42-6cb5-449b-99a5-0a3fd666297e",
   "metadata": {},
   "outputs": [],
   "source": [
    "stock_prices[\"Spread\"] = stock_prices[stocks[0]] - stock_prices[stocks[1]]"
   ]
  },
  {
   "cell_type": "code",
   "execution_count": null,
   "id": "168fb491-f7fc-4fae-ab02-8aa1998c9c47",
   "metadata": {},
   "outputs": [],
   "source": [
    "#stock_prices.to_csv(\"pair_prices.csv\")"
   ]
  }
 ],
 "metadata": {
  "kernelspec": {
   "display_name": "Python 3 (ipykernel)",
   "language": "python",
   "name": "python3"
  },
  "language_info": {
   "codemirror_mode": {
    "name": "ipython",
    "version": 3
   },
   "file_extension": ".py",
   "mimetype": "text/x-python",
   "name": "python",
   "nbconvert_exporter": "python",
   "pygments_lexer": "ipython3",
   "version": "3.12.7"
  }
 },
 "nbformat": 4,
 "nbformat_minor": 5
}
