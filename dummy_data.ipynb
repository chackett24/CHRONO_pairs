{
 "cells": [
  {
   "cell_type": "markdown",
   "id": "50751a3d-75fb-471a-965c-54fb10614e27",
   "metadata": {},
   "source": [
    "The purpose of this notebook is to make dummy data that looks like what we expect from the model files"
   ]
  },
  {
   "cell_type": "code",
   "execution_count": 6,
   "id": "861c3802-13c8-469d-b5b2-d9e6b73fa7ef",
   "metadata": {},
   "outputs": [],
   "source": [
    "import pandas as pd\n",
    "import numpy as np\n",
    "\n",
    "# Load the input file\n",
    "input_path = \"outputs/spreads.csv\"  # Replace with your actual path\n",
    "data = pd.read_csv(input_path, parse_dates=[\"Date\"])\n",
    "\n",
    "# Simulate CHRONOBERT predicted spread by adding small noise\n",
    "np.random.seed(42)  # For reproducibility\n",
    "noise = np.random.normal(loc=0, scale=2, size=len(data))  # Change scale for more/less variation\n",
    "data[\"CHRONOBERT Spread\"] = data[\"Spread\"] + noise\n",
    "\n",
    "np.random.seed(120)  # For reproducibility\n",
    "noise = np.random.normal(loc=0, scale=2, size=len(data))  # Change scale for more/less variation\n",
    "data[\"BERT Spread\"] = data[\"Spread\"] + noise\n",
    "\n",
    "np.random.seed(1)  # For reproducibility\n",
    "noise = np.random.normal(loc=0, scale=2, size=len(data))  # Change scale for more/less variation\n",
    "data[\"Traditional Spread\"] = data[\"Spread\"] + noise\n",
    "\n",
    "# Determine CHRONOBERT Position: Long if predicted < original (expect spread to rise), else Short\n",
    "data[\"CHRONOBERT Position\"] = np.where(data[\"CHRONOBERT Spread\"] < data[\"Spread\"], \"Long\", \"Short\")\n",
    "data[\"BERT Position\"] = np.where(data[\"BERT Spread\"] < data[\"Spread\"], \"Long\", \"Short\")\n",
    "data[\"Traditional Position\"] = np.where(data[\"Traditional Spread\"] < data[\"Spread\"], \"Long\", \"Short\")\n",
    "\n",
    "# Select and rename columns for output\n",
    "data.set_index(\"Date\", inplace=True)\n",
    "\n",
    "\n",
    "chrono = data[[\"Ticker Pair\", \"CHRONOBERT Spread\", \"CHRONOBERT Position\"]]\n",
    "output_path = \"outputs/chrono_dummy.csv\"\n",
    "chrono.to_csv(output_path, index=True)\n",
    "\n",
    "bert = data[[\"Ticker Pair\", \"BERT Spread\", \"BERT Position\"]]\n",
    "output_path = \"outputs/bert_dummy.csv\"\n",
    "bert.to_csv(output_path, index=True)\n",
    "\n",
    "traditional = data[[\"Ticker Pair\", \"Traditional Spread\", \"Traditional Position\"]]\n",
    "output_path = \"outputs/traditional_dummy.csv\"\n",
    "traditional.to_csv(output_path, index=True)"
   ]
  },
  {
   "cell_type": "code",
   "execution_count": null,
   "id": "8ee59e88-4b6f-410b-868c-0340d39867b6",
   "metadata": {},
   "outputs": [],
   "source": []
  }
 ],
 "metadata": {
  "kernelspec": {
   "display_name": "Python 3 (ipykernel)",
   "language": "python",
   "name": "python3"
  },
  "language_info": {
   "codemirror_mode": {
    "name": "ipython",
    "version": 3
   },
   "file_extension": ".py",
   "mimetype": "text/x-python",
   "name": "python",
   "nbconvert_exporter": "python",
   "pygments_lexer": "ipython3",
   "version": "3.12.7"
  }
 },
 "nbformat": 4,
 "nbformat_minor": 5
}
