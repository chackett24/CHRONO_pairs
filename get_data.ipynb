{
 "cells": [
  {
   "cell_type": "code",
   "execution_count": 37,
   "id": "3be849e6-c0cc-4920-bbbc-c910c24de093",
   "metadata": {},
   "outputs": [
    {
     "name": "stderr",
     "output_type": "stream",
     "text": [
      "[*********************100%***********************]  14 of 14 completed"
     ]
    },
    {
     "name": "stdout",
     "output_type": "stream",
     "text": [
      "           Ticker  Adj Close    Return\n",
      "Date                                  \n",
      "2016-01-10   AAPL  21.936222       NaN\n",
      "2016-01-17   AAPL  21.974682  0.001753\n",
      "2016-01-24   AAPL  22.945250  0.044168\n",
      "2016-01-31   AAPL  22.022194 -0.040229\n",
      "2016-02-07   AAPL  21.386499 -0.028866\n",
      "2016-02-14   AAPL  21.379673 -0.000319\n",
      "2016-02-21   AAPL  21.845985  0.021811\n",
      "2016-02-28   AAPL  22.043875  0.009058\n",
      "2016-03-06   AAPL  23.431437  0.062945\n",
      "2016-03-13   AAPL  23.260832 -0.007281\n"
     ]
    },
    {
     "name": "stderr",
     "output_type": "stream",
     "text": [
      "\n"
     ]
    }
   ],
   "source": [
    "import yfinance as yf\n",
    "import pandas as pd\n",
    "import time\n",
    "from datetime import datetime\n",
    "import numpy as np\n",
    "\n",
    "stocks = ['AMD', 'NVDA', 'META', 'GOOGL', 'TSLA', 'GM', 'AAPL', 'MSFT', 'NFLX', 'DIS', 'JPM', 'BAC', 'KO', 'PEP']\n",
    "start = datetime(2016, 1, 1)\n",
    "end = datetime(2018, 12, 30)\n",
    "\n",
    "stock_prices         = yf.download(stocks, start , end, auto_adjust = False)\n",
    "stock_prices = stock_prices.resample('W').last()\n",
    "stock_prices.index   = stock_prices.index.tz_localize(None)      # change yf date format to match pdr\n",
    "stock_prices         = stock_prices.filter(like='Adj Close')     # reduce to just columns with this in the name\n",
    "stock_prices.columns = stock_prices.columns.get_level_values(1)  # tickers as col names, works no matter order of tics\n",
    "\n",
    "stock_prices = stock_prices.unstack(level=0).reset_index()\n",
    "stock_prices.columns = ['Ticker', 'Date', 'Adj Close']\n",
    "stock_prices['Return'] = stock_prices.groupby('Ticker')['Adj Close'].pct_change()\n",
    "stock_prices.set_index('Date', inplace=True) \n",
    "print(stock_prices.head(10))\n",
    "stock_prices.to_csv(\"outputs/returns_weekly_large.csv\", index=True)"
   ]
  },
  {
   "cell_type": "code",
   "execution_count": 38,
   "id": "0ef22a9b-1720-4aa7-8b89-b30c81c4febf",
   "metadata": {},
   "outputs": [
    {
     "name": "stdout",
     "output_type": "stream",
     "text": [
      "Ticker           AAPL        AMD        BAC         DIS         GM      GOOGL  \\\n",
      "Date                                                                            \n",
      "2016-01-10  21.936222   2.140000  12.412969   92.494095  23.942945  36.371613   \n",
      "2016-01-17  21.974682   2.030000  11.808654   87.508263  23.975378  35.355469   \n",
      "2016-01-24  22.945250   2.020000  11.073674   90.304070  23.740248  37.095650   \n",
      "2016-01-31  22.022194   2.200000  11.547329   89.297577  24.032133  37.886368   \n",
      "2016-02-07  21.386499   1.980000  10.575524   87.508263  23.140255  35.020569   \n",
      "...               ...        ...        ...         ...        ...        ...   \n",
      "2018-12-02  42.595020  21.299999  24.232344  111.835831  34.620541  55.218502   \n",
      "2018-12-09  40.188354  19.459999  21.819447  109.278023  31.979309  52.080006   \n",
      "2018-12-16  39.470390  19.900000  21.004333  109.492691  32.357269  52.335281   \n",
      "2018-12-23  35.952213  16.930000  20.051929  101.705261  30.402925  49.326672   \n",
      "2018-12-30  37.264076  17.820000  20.927113  104.710938  31.269466  52.084984   \n",
      "\n",
      "Ticker            JPM         KO        META        MSFT        NFLX  \\\n",
      "Date                                                                   \n",
      "2016-01-10  45.697216  30.980505   96.873436   46.066345  111.389999   \n",
      "2016-01-17  44.239113  30.973036   94.524506   44.886734  104.040001   \n",
      "2016-01-24  44.169304  31.391010   97.480576   46.031128  100.720001   \n",
      "2016-01-31  46.147045  32.032845  111.683632   48.495983   91.839996   \n",
      "2016-02-07  44.789780  31.674593  103.581818   44.156082   82.790001   \n",
      "...               ...        ...         ...         ...         ...   \n",
      "2018-12-02  92.266785  41.531586  139.950424  104.310097  286.130005   \n",
      "2018-12-09  85.711281  40.452084  136.775375   98.600258  265.140015   \n",
      "2018-12-16  83.221832  40.658100  143.384216   99.738472  266.839996   \n",
      "2018-12-23  78.143364  39.199543  124.363869   92.401314  246.389999   \n",
      "2018-12-30  80.350685  38.894657  132.575165   94.433136  256.079987   \n",
      "\n",
      "Ticker          NVDA         PEP       TSLA  \n",
      "Date                                         \n",
      "2016-01-10  0.722883   74.130806  14.066667  \n",
      "2016-01-17  0.661403   71.629562  13.666000  \n",
      "2016-01-24  0.694095   73.093697  13.503333  \n",
      "2016-01-31  0.714588   75.724609  12.746667  \n",
      "2016-02-07  0.644813   74.214684  10.840000  \n",
      "...              ...         ...        ...  \n",
      "2018-12-02  4.052492  100.869667  23.365334  \n",
      "2018-12-09  3.660211   96.567879  23.864668  \n",
      "2018-12-16  3.631448   95.008743  24.380667  \n",
      "2018-12-23  3.212882   91.231743  21.318001  \n",
      "2018-12-30  3.314052   92.015465  22.257999  \n",
      "\n",
      "[156 rows x 14 columns]\n"
     ]
    }
   ],
   "source": [
    "pivot_data = stock_prices.pivot(columns='Ticker', values='Adj Close')\n",
    "print(pivot_data)"
   ]
  },
  {
   "cell_type": "code",
   "execution_count": 39,
   "id": "4719ba7a-30b2-4287-8ae0-0a7a90783b16",
   "metadata": {},
   "outputs": [],
   "source": [
    "pairs =[\n",
    "    ('AAPL', 'MSFT'),\n",
    "    ('GOOGL', 'META'),\n",
    "    ('AMD', 'NVDA'),\n",
    "    ('TSLA', 'GM'),\n",
    "    ('KO', 'PEP'),\n",
    "    ('NFLX', 'DIS'),\n",
    "    ('JPM', 'BAC'),\n",
    "    ('GOOGL', 'AAPL'),\n",
    "    ('META', 'NFLX'),\n",
    "    ('TSLA', 'NVDA')\n",
    "]\n",
    "\n",
    "spread_list = []\n",
    "\n",
    "for pair in pairs:\n",
    "    ticker_1, ticker_2 = pair\n",
    "    spread = np.log(pivot_data[ticker_1]) - np.log(pivot_data[ticker_2])\n",
    "\n",
    "    spread_mean = spread.mean()\n",
    "    spread_std = spread.std()\n",
    "    z_spread = (spread - spread_mean) / spread_std\n",
    "    \n",
    "    pair_df = z_spread.reset_index()\n",
    "    pair_df['Date'] = pd.to_datetime(pair_df['Date'])  # Convert Date column to datetime\n",
    "    pair_df.set_index('Date', inplace=True)\n",
    "    pair_df['Ticker Pair'] = f'{ticker_1}-{ticker_2}'\n",
    "    pair_df.columns = ['Spread', 'Ticker Pair']\n",
    "    spread_list.append(pair_df[['Ticker Pair', 'Spread']])\n",
    "\n",
    "spread_df = pd.concat(spread_list)"
   ]
  },
  {
   "cell_type": "code",
   "execution_count": 40,
   "id": "4f85940b-c40e-47e5-81e0-9f95d788173f",
   "metadata": {},
   "outputs": [
    {
     "name": "stdout",
     "output_type": "stream",
     "text": [
      "Ticker          AAPL       AMD       BAC       DIS        GM     GOOGL  \\\n",
      "Date                                                                     \n",
      "2016-01-10       NaN       NaN       NaN       NaN       NaN       NaN   \n",
      "2016-01-17  0.001753 -0.051402 -0.048684 -0.053904  0.001355 -0.027938   \n",
      "2016-01-24  0.044168 -0.004926 -0.062241  0.031949 -0.009807  0.049220   \n",
      "2016-01-31 -0.040229  0.089109  0.042773 -0.011146  0.012295  0.021316   \n",
      "2016-02-07 -0.028866 -0.100000 -0.084158 -0.020038 -0.037112 -0.075642   \n",
      "...              ...       ...       ...       ...       ...       ...   \n",
      "2018-12-02  0.036508  0.099071  0.053022  0.030425  0.056220  0.077225   \n",
      "2018-12-09 -0.056501 -0.086385 -0.099573 -0.022871 -0.076291 -0.056838   \n",
      "2018-12-16 -0.017865  0.022611 -0.037357  0.001964  0.011819  0.004902   \n",
      "2018-12-23 -0.089135 -0.149246 -0.045343 -0.071123 -0.060399 -0.057487   \n",
      "2018-12-30  0.036489  0.052569  0.043646  0.029553  0.028502  0.055919   \n",
      "\n",
      "Ticker           JPM        KO      META      MSFT      NFLX      NVDA  \\\n",
      "Date                                                                     \n",
      "2016-01-10       NaN       NaN       NaN       NaN       NaN       NaN   \n",
      "2016-01-17 -0.031908 -0.000241 -0.024247 -0.025607 -0.065984 -0.085049   \n",
      "2016-01-24 -0.001578  0.013495  0.031273  0.025495 -0.031911  0.049428   \n",
      "2016-01-31  0.044776  0.020446  0.145701  0.053548 -0.088165  0.029526   \n",
      "2016-02-07 -0.029412 -0.011184 -0.072543 -0.089490 -0.098541 -0.097644   \n",
      "...              ...       ...       ...       ...       ...       ...   \n",
      "2018-12-02  0.042569  0.036282  0.067411  0.075871  0.105517  0.128231   \n",
      "2018-12-09 -0.071049 -0.025992 -0.022687 -0.054739 -0.073358 -0.096800   \n",
      "2018-12-16 -0.029045  0.005093  0.048319  0.011544  0.006412 -0.007858   \n",
      "2018-12-23 -0.061023 -0.035874 -0.132653 -0.073564 -0.076638 -0.115261   \n",
      "2018-12-30  0.028247 -0.007778  0.066026  0.021989  0.039328  0.031489   \n",
      "\n",
      "Ticker           PEP      TSLA  \n",
      "Date                            \n",
      "2016-01-10       NaN       NaN  \n",
      "2016-01-17 -0.033741 -0.028483  \n",
      "2016-01-24  0.020440 -0.011903  \n",
      "2016-01-31  0.035994 -0.056036  \n",
      "2016-02-07 -0.019940 -0.149582  \n",
      "...              ...       ...  \n",
      "2018-12-02  0.056581  0.075653  \n",
      "2018-12-09 -0.042647  0.021371  \n",
      "2018-12-16 -0.016145  0.021622  \n",
      "2018-12-23 -0.039754 -0.125619  \n",
      "2018-12-30  0.008590  0.044094  \n",
      "\n",
      "[156 rows x 14 columns]\n"
     ]
    }
   ],
   "source": [
    "pivot_data = stock_prices.pivot(columns='Ticker', values='Return')\n",
    "print(pivot_data)"
   ]
  },
  {
   "cell_type": "code",
   "execution_count": 41,
   "id": "73af4d4d-0430-4dcb-bdfc-5f2f619481eb",
   "metadata": {},
   "outputs": [
    {
     "name": "stdout",
     "output_type": "stream",
     "text": [
      "           Ticker Pair    Return\n",
      "Date                            \n",
      "2016-01-10   AAPL-MSFT       NaN\n",
      "2016-01-17   AAPL-MSFT  0.027360\n",
      "2016-01-24   AAPL-MSFT  0.018672\n",
      "2016-01-31   AAPL-MSFT -0.093776\n",
      "2016-02-07   AAPL-MSFT  0.060624\n",
      "...                ...       ...\n",
      "2018-12-02   TSLA-NVDA -0.052578\n",
      "2018-12-09   TSLA-NVDA  0.118171\n",
      "2018-12-16   TSLA-NVDA  0.029480\n",
      "2018-12-23   TSLA-NVDA -0.010357\n",
      "2018-12-30   TSLA-NVDA  0.012605\n",
      "\n",
      "[1560 rows x 2 columns]\n"
     ]
    }
   ],
   "source": [
    "pairs =[\n",
    "    ('AAPL', 'MSFT'),\n",
    "    ('GOOGL', 'META'),\n",
    "    ('AMD', 'NVDA'),\n",
    "    ('TSLA', 'GM'),\n",
    "    ('KO', 'PEP'),\n",
    "    ('NFLX', 'DIS'),\n",
    "    ('JPM', 'BAC'),\n",
    "    ('GOOGL', 'AAPL'),\n",
    "    ('META', 'NFLX'),\n",
    "    ('TSLA', 'NVDA')\n",
    "]\n",
    "\n",
    "\n",
    "spread_list = []\n",
    "\n",
    "for pair in pairs:\n",
    "    ticker_1, ticker_2 = pair\n",
    "    spread = pivot_data[ticker_1] - pivot_data[ticker_2]\n",
    "    pair_df = spread.reset_index()\n",
    "    pair_df['Date'] = pd.to_datetime(pair_df['Date'])  # Convert Date column to datetime\n",
    "    pair_df.set_index('Date', inplace=True)\n",
    "    pair_df['Ticker Pair'] = f'{ticker_1}-{ticker_2}'\n",
    "    pair_df.columns = ['Return', 'Ticker Pair']\n",
    "    spread_list.append(pair_df[['Ticker Pair', 'Return']])\n",
    "\n",
    "return_spread_df = pd.concat(spread_list)\n",
    "\n",
    "print(return_spread_df)"
   ]
  },
  {
   "cell_type": "code",
   "execution_count": 42,
   "id": "9a8bcfbf-b284-4e14-b6e7-050b265723e7",
   "metadata": {},
   "outputs": [],
   "source": [
    "final_df = spread_df.merge(return_spread_df, how = 'inner', left_on = ['Date', 'Ticker Pair'], right_on = ['Date', 'Ticker Pair'],validate = 'one_to_one')"
   ]
  },
  {
   "cell_type": "code",
   "execution_count": 43,
   "id": "4cac2bd1-dbec-41a0-9ae6-b8a2f2b56bea",
   "metadata": {},
   "outputs": [],
   "source": [
    "final_df.to_csv(\"outputs/spreads_weekly_large.csv\", index=True)"
   ]
  },
  {
   "cell_type": "code",
   "execution_count": null,
   "id": "b9e8290c-ca38-4d23-a719-9744fd321989",
   "metadata": {},
   "outputs": [],
   "source": []
  }
 ],
 "metadata": {
  "kernelspec": {
   "display_name": "base",
   "language": "python",
   "name": "python3"
  },
  "language_info": {
   "codemirror_mode": {
    "name": "ipython",
    "version": 3
   },
   "file_extension": ".py",
   "mimetype": "text/x-python",
   "name": "python",
   "nbconvert_exporter": "python",
   "pygments_lexer": "ipython3",
   "version": "3.12.7"
  }
 },
 "nbformat": 4,
 "nbformat_minor": 5
}
