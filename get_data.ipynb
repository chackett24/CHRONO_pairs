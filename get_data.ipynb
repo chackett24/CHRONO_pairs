{
 "cells": [
  {
   "cell_type": "code",
   "execution_count": 34,
   "id": "3be849e6-c0cc-4920-bbbc-c910c24de093",
   "metadata": {},
   "outputs": [
    {
     "name": "stderr",
     "output_type": "stream",
     "text": [
      "[*********************100%***********************]  2 of 2 completed\n"
     ]
    }
   ],
   "source": [
    "import yfinance as yf\n",
    "import pandas as pd\n",
    "import time\n",
    "from datetime import datetime\n",
    "\n",
    "stocks = ['AMD', 'NVDA']\n",
    "start = datetime(2016, 2, 1)\n",
    "end = datetime(2020, 4, 30)\n",
    "\n",
    "stock_prices         = yf.download(stocks, start , end, auto_adjust = False)\n",
    "stock_prices.index   = stock_prices.index.tz_localize(None)      # change yf date format to match pdr\n",
    "stock_prices         = stock_prices.filter(like='Adj Close')     # reduce to just columns with this in the name\n",
    "stock_prices.columns = stock_prices.columns.get_level_values(1)  # tickers as col names, works no matter order of tics"
   ]
  },
  {
   "cell_type": "code",
   "execution_count": 35,
   "id": "29aa5124-cc99-49ac-bd36-2a111773bb58",
   "metadata": {},
   "outputs": [],
   "source": [
    "stock_prices = stock_prices.unstack(level=0).reset_index()"
   ]
  },
  {
   "cell_type": "code",
   "execution_count": 36,
   "id": "6610d726-7908-4dd8-8736-193a944f8a61",
   "metadata": {},
   "outputs": [
    {
     "name": "stdout",
     "output_type": "stream",
     "text": [
      "     Ticker       Date  Adj Close\n",
      "0       AMD 2016-02-01   2.140000\n",
      "1       AMD 2016-02-02   1.990000\n",
      "2       AMD 2016-02-03   2.070000\n",
      "3       AMD 2016-02-04   2.090000\n",
      "4       AMD 2016-02-05   1.980000\n",
      "...     ...        ...        ...\n",
      "2133   NVDA 2020-04-23   7.074187\n",
      "2134   NVDA 2020-04-24   7.213176\n",
      "2135   NVDA 2020-04-27   7.399738\n",
      "2136   NVDA 2020-04-28   7.257262\n",
      "2137   NVDA 2020-04-29   7.434111\n",
      "\n",
      "[2138 rows x 3 columns]\n"
     ]
    }
   ],
   "source": [
    "stock_prices.columns = ['Ticker', 'Date', 'Adj Close']\n",
    "print(stock_prices)"
   ]
  },
  {
   "cell_type": "code",
   "execution_count": 38,
   "id": "404171cd-35ef-4940-8f69-70d01073ff9c",
   "metadata": {},
   "outputs": [
    {
     "name": "stdout",
     "output_type": "stream",
     "text": [
      "     Ticker       Date  Adj Close  Daily Return\n",
      "0       AMD 2016-02-01   2.140000           NaN\n",
      "1       AMD 2016-02-02   1.990000     -0.070093\n",
      "2       AMD 2016-02-03   2.070000      0.040201\n",
      "3       AMD 2016-02-04   2.090000      0.009662\n",
      "4       AMD 2016-02-05   1.980000     -0.052632\n",
      "...     ...        ...        ...           ...\n",
      "2133   NVDA 2020-04-23   7.074187     -0.007479\n",
      "2134   NVDA 2020-04-24   7.213176      0.019647\n",
      "2135   NVDA 2020-04-27   7.399738      0.025864\n",
      "2136   NVDA 2020-04-28   7.257262     -0.019254\n",
      "2137   NVDA 2020-04-29   7.434111      0.024369\n",
      "\n",
      "[2138 rows x 4 columns]\n"
     ]
    }
   ],
   "source": [
    "stock_prices['Daily Return'] = stock_prices.groupby('Ticker')['Adj Close'].pct_change()\n",
    "print(stock_prices)"
   ]
  },
  {
   "cell_type": "code",
   "execution_count": null,
   "id": "23fb54d9-7dc9-43b2-a20d-ed86f8a71941",
   "metadata": {},
   "outputs": [],
   "source": [
    "sto.to_csv(\"outputs/adjusted_close_returns.csv\", index=False)"
   ]
  }
 ],
 "metadata": {
  "kernelspec": {
   "display_name": "Python 3 (ipykernel)",
   "language": "python",
   "name": "python3"
  },
  "language_info": {
   "codemirror_mode": {
    "name": "ipython",
    "version": 3
   },
   "file_extension": ".py",
   "mimetype": "text/x-python",
   "name": "python",
   "nbconvert_exporter": "python",
   "pygments_lexer": "ipython3",
   "version": "3.12.7"
  }
 },
 "nbformat": 4,
 "nbformat_minor": 5
}
