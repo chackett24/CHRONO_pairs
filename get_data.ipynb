"cells": [
{
"cell_type": "code",
   "execution_count": 34,
   "execution_count": 51,
"id": "3be849e6-c0cc-4920-bbbc-c910c24de093",
"metadata": {},
"outputs": [
{
"name": "stderr",
"output_type": "stream",
"text": [
      "[*********************100%***********************]  2 of 2 completed\n"
      "[*********************100%***********************]  4 of 4 completed\n"
]
}
],
@@ -20,8 +20,8 @@
"import time\n",
"from datetime import datetime\n",
"\n",
    "stocks = ['AMD', 'NVDA']\n",
    "start = datetime(2016, 2, 1)\n",
    "stocks = ['AMD', 'NVDA', 'META', 'TSLA']\n",
    "start = datetime(2019, 2, 1)\n",
"end = datetime(2020, 4, 30)\n",
"\n",
"stock_prices         = yf.download(stocks, start , end, auto_adjust = False)\n",
@@ -32,7 +32,7 @@
},
{
"cell_type": "code",
   "execution_count": 35,
   "execution_count": 52,
"id": "29aa5124-cc99-49ac-bd36-2a111773bb58",
"metadata": {},
"outputs": [],
@@ -42,7 +42,7 @@
},
{
"cell_type": "code",
   "execution_count": 36,
   "execution_count": 53,
"id": "6610d726-7908-4dd8-8736-193a944f8a61",
"metadata": {},
"outputs": [
@@ -51,19 +51,19 @@
"output_type": "stream",
"text": [
"     Ticker       Date  Adj Close\n",
      "0       AMD 2016-02-01   2.140000\n",
      "1       AMD 2016-02-02   1.990000\n",
      "2       AMD 2016-02-03   2.070000\n",
      "3       AMD 2016-02-04   2.090000\n",
      "4       AMD 2016-02-05   1.980000\n",
      "0       AMD 2019-02-01  24.510000\n",
      "1       AMD 2019-02-04  24.129999\n",
      "2       AMD 2019-02-05  23.309999\n",
      "3       AMD 2019-02-06  23.260000\n",
      "4       AMD 2019-02-07  22.670000\n",
"...     ...        ...        ...\n",
      "2133   NVDA 2020-04-23   7.074187\n",
      "2134   NVDA 2020-04-24   7.213176\n",
      "2135   NVDA 2020-04-27   7.399738\n",
      "2136   NVDA 2020-04-28   7.257262\n",
      "2137   NVDA 2020-04-29   7.434111\n",
      "1247   TSLA 2020-04-23  47.042000\n",
      "1248   TSLA 2020-04-24  48.343334\n",
      "1249   TSLA 2020-04-27  53.250000\n",
      "1250   TSLA 2020-04-28  51.274666\n",
      "1251   TSLA 2020-04-29  53.367332\n",
"\n",
      "[2138 rows x 3 columns]\n"
      "[1252 rows x 3 columns]\n"
]
}
],
@@ -74,7 +74,7 @@
},
{
"cell_type": "code",
   "execution_count": 38,
   "execution_count": 54,
"id": "404171cd-35ef-4940-8f69-70d01073ff9c",
"metadata": {},
"outputs": [
@@ -83,19 +83,19 @@
"output_type": "stream",
"text": [
"     Ticker       Date  Adj Close  Daily Return\n",
      "0       AMD 2016-02-01   2.140000           NaN\n",
      "1       AMD 2016-02-02   1.990000     -0.070093\n",
      "2       AMD 2016-02-03   2.070000      0.040201\n",
      "3       AMD 2016-02-04   2.090000      0.009662\n",
      "4       AMD 2016-02-05   1.980000     -0.052632\n",
      "0       AMD 2019-02-01  24.510000           NaN\n",
      "1       AMD 2019-02-04  24.129999     -0.015504\n",
      "2       AMD 2019-02-05  23.309999     -0.033983\n",
      "3       AMD 2019-02-06  23.260000     -0.002145\n",
      "4       AMD 2019-02-07  22.670000     -0.025365\n",
"...     ...        ...        ...           ...\n",
      "2133   NVDA 2020-04-23   7.074187     -0.007479\n",
      "2134   NVDA 2020-04-24   7.213176      0.019647\n",
      "2135   NVDA 2020-04-27   7.399738      0.025864\n",
      "2136   NVDA 2020-04-28   7.257262     -0.019254\n",
      "2137   NVDA 2020-04-29   7.434111      0.024369\n",
      "1247   TSLA 2020-04-23  47.042000     -0.036169\n",
      "1248   TSLA 2020-04-24  48.343334      0.027663\n",
      "1249   TSLA 2020-04-27  53.250000      0.101496\n",
      "1250   TSLA 2020-04-28  51.274666     -0.037095\n",
      "1251   TSLA 2020-04-29  53.367332      0.040813\n",
"\n",
      "[2138 rows x 4 columns]\n"
      "[1252 rows x 4 columns]\n"
]
}
],
@@ -106,13 +106,201 @@
},
{
"cell_type": "code",
   "execution_count": null,
   "execution_count": 55,
"id": "23fb54d9-7dc9-43b2-a20d-ed86f8a71941",
"metadata": {},
"outputs": [],
"source": [
    "sto.to_csv(\"outputs/adjusted_close_returns.csv\", index=False)"
    "stock_prices.to_csv(\"outputs/returns.csv\", index=False)"
   ]
  },
  {
   "cell_type": "code",
   "execution_count": 59,
   "id": "0ef22a9b-1720-4aa7-8b89-b30c81c4febf",
   "metadata": {},
   "outputs": [
    {
     "name": "stdout",
     "output_type": "stream",
     "text": [
      "Ticker            AMD        META      NVDA       TSLA\n",
      "Date                                                  \n",
      "2019-02-01  24.510000  164.932678  3.588797  20.813999\n",
      "2019-02-04  24.129999  168.456070  3.699142  20.859333\n",
      "2019-02-05  23.309999  170.357101  3.718235  21.423332\n",
      "2019-02-06  23.260000  169.690262  3.793865  21.148001\n",
      "2019-02-07  22.670000  165.599548  3.655499  20.500668\n",
      "...               ...         ...       ...        ...\n",
      "2020-04-23  55.900002  184.261566  7.074186  47.042000\n",
      "2020-04-24  56.180000  189.178406  7.213173  48.343334\n",
      "2020-04-27  56.490002  186.620438  7.399736  53.250000\n",
      "2020-04-28  55.509998  182.051987  7.257262  51.274666\n",
      "2020-04-29  53.660000  193.279083  7.434112  53.367332\n",
      "\n",
      "[313 rows x 4 columns]\n"
     ]
    }
   ],
   "source": [
    "pivot_data = stock_prices.pivot(index='Date', columns='Ticker', values='Adj Close')\n",
    "print(pivot_data)"
   ]
  },
  {
   "cell_type": "code",
   "execution_count": 69,
   "id": "4719ba7a-30b2-4287-8ae0-0a7a90783b16",
   "metadata": {},
   "outputs": [
    {
     "data": {
      "text/html": [
       "<div>\n",
       "<style scoped>\n",
       "    .dataframe tbody tr th:only-of-type {\n",
       "        vertical-align: middle;\n",
       "    }\n",
       "\n",
       "    .dataframe tbody tr th {\n",
       "        vertical-align: top;\n",
       "    }\n",
       "\n",
       "    .dataframe thead th {\n",
       "        text-align: right;\n",
       "    }\n",
       "</style>\n",
       "<table border=\"1\" class=\"dataframe\">\n",
       "  <thead>\n",
       "    <tr style=\"text-align: right;\">\n",
       "      <th></th>\n",
       "      <th>Date</th>\n",
       "      <th>Ticker Pair</th>\n",
       "      <th>Spread</th>\n",
       "    </tr>\n",
       "  </thead>\n",
       "  <tbody>\n",
       "    <tr>\n",
       "      <th>0</th>\n",
       "      <td>2019-02-01</td>\n",
       "      <td>AMD-NVDA</td>\n",
       "      <td>20.921203</td>\n",
       "    </tr>\n",
       "    <tr>\n",
       "      <th>1</th>\n",
       "      <td>2019-02-04</td>\n",
       "      <td>AMD-NVDA</td>\n",
       "      <td>20.430857</td>\n",
       "    </tr>\n",
       "    <tr>\n",
       "      <th>2</th>\n",
       "      <td>2019-02-05</td>\n",
       "      <td>AMD-NVDA</td>\n",
       "      <td>19.591764</td>\n",
       "    </tr>\n",
       "    <tr>\n",
       "      <th>3</th>\n",
       "      <td>2019-02-06</td>\n",
       "      <td>AMD-NVDA</td>\n",
       "      <td>19.466135</td>\n",
       "    </tr>\n",
       "    <tr>\n",
       "      <th>4</th>\n",
       "      <td>2019-02-07</td>\n",
       "      <td>AMD-NVDA</td>\n",
       "      <td>19.014501</td>\n",
       "    </tr>\n",
       "    <tr>\n",
       "      <th>...</th>\n",
       "      <td>...</td>\n",
       "      <td>...</td>\n",
       "      <td>...</td>\n",
       "    </tr>\n",
       "    <tr>\n",
       "      <th>308</th>\n",
       "      <td>2020-04-23</td>\n",
       "      <td>AMD-META</td>\n",
       "      <td>-128.361565</td>\n",
       "    </tr>\n",
       "    <tr>\n",
       "      <th>309</th>\n",
       "      <td>2020-04-24</td>\n",
       "      <td>AMD-META</td>\n",
       "      <td>-132.998405</td>\n",
       "    </tr>\n",
       "    <tr>\n",
       "      <th>310</th>\n",
       "      <td>2020-04-27</td>\n",
       "      <td>AMD-META</td>\n",
       "      <td>-130.130436</td>\n",
       "    </tr>\n",
       "    <tr>\n",
       "      <th>311</th>\n",
       "      <td>2020-04-28</td>\n",
       "      <td>AMD-META</td>\n",
       "      <td>-126.541988</td>\n",
       "    </tr>\n",
       "    <tr>\n",
       "      <th>312</th>\n",
       "      <td>2020-04-29</td>\n",
       "      <td>AMD-META</td>\n",
       "      <td>-139.619083</td>\n",
       "    </tr>\n",
       "  </tbody>\n",
       "</table>\n",
       "<p>626 rows × 3 columns</p>\n",
       "</div>"
      ],
      "text/plain": [
       "          Date Ticker Pair      Spread\n",
       "0   2019-02-01    AMD-NVDA   20.921203\n",
       "1   2019-02-04    AMD-NVDA   20.430857\n",
       "2   2019-02-05    AMD-NVDA   19.591764\n",
       "3   2019-02-06    AMD-NVDA   19.466135\n",
       "4   2019-02-07    AMD-NVDA   19.014501\n",
       "..         ...         ...         ...\n",
       "308 2020-04-23    AMD-META -128.361565\n",
       "309 2020-04-24    AMD-META -132.998405\n",
       "310 2020-04-27    AMD-META -130.130436\n",
       "311 2020-04-28    AMD-META -126.541988\n",
       "312 2020-04-29    AMD-META -139.619083\n",
       "\n",
       "[626 rows x 3 columns]"
      ]
     },
     "execution_count": 69,
     "metadata": {},
     "output_type": "execute_result"
    }
   ],
   "source": [
    "pairs = [('AMD', 'NVDA'), ('AMD', 'META')]\n",
    "\n",
    "spread_list = []\n",
    "\n",
    "for pair in pairs:\n",
    "    ticker_1, ticker_2 = pair\n",
    "    spread = pivot_data[ticker_1] - pivot_data[ticker_2]\n",
    "\n",
    "    pair_df = spread.reset_index()\n",
    "    pair_df['Ticker Pair'] = f'{ticker_1}-{ticker_2}'\n",
    "    pair_df.columns = ['Date', 'Spread', 'Ticker Pair']\n",
    "    spread_list.append(pair_df[['Date', 'Ticker Pair', 'Spread']])\n",
    "\n",
    "spread_df = pd.concat(spread_list)\n",
    "\n",
    "spread_df.to_csv(\"outputs/spread_data.csv\", index=False)\n",
    "\n",
    "spread_df"
]
  },
  {
   "cell_type": "code",
   "execution_count": null,
   "id": "73af4d4d-0430-4dcb-bdfc-5f2f619481eb",
   "metadata": {},
   "outputs": [],
   "source": []
}
],
"metadata": {
