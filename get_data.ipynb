{
 "cells": [
  {
   "cell_type": "code",
   "execution_count": 1,
   "id": "3be849e6-c0cc-4920-bbbc-c910c24de093",
   "metadata": {},
   "outputs": [
    {
     "name": "stderr",
     "output_type": "stream",
     "text": [
      "[*********************100%***********************]  4 of 4 completed"
     ]
    },
    {
     "name": "stdout",
     "output_type": "stream",
     "text": [
      "           Ticker  Adj Close    Return\n",
      "Date                                  \n",
      "2019-02-28    AMD  23.530001       NaN\n",
      "2019-03-31    AMD  25.520000  0.084573\n",
      "2019-04-30    AMD  27.629999  0.082680\n",
      "2019-05-31    AMD  27.410000 -0.007962\n",
      "2019-06-30    AMD  30.370001  0.107990\n",
      "2019-07-31    AMD  30.450001  0.002634\n",
      "2019-08-31    AMD  31.450001  0.032841\n",
      "2019-09-30    AMD  28.990000 -0.078219\n",
      "2019-10-31    AMD  33.930000  0.170404\n",
      "2019-11-30    AMD  39.150002  0.153846\n"
     ]
    },
    {
     "name": "stderr",
     "output_type": "stream",
     "text": [
      "\n"
     ]
    }
   ],
   "source": [
    "import yfinance as yf\n",
    "import pandas as pd\n",
    "import time\n",
    "from datetime import datetime\n",
    "import numpy as np\n",
    "\n",
    "stocks = ['AMD', 'NVDA', 'META', 'TSLA']\n",
    "start = datetime(2019, 2, 1)\n",
    "end = datetime(2020, 4, 30)\n",
    "\n",
    "stock_prices         = yf.download(stocks, start , end, auto_adjust = False)\n",
    "stock_prices = stock_prices.resample('ME').last()\n",
    "stock_prices.index   = stock_prices.index.tz_localize(None)      # change yf date format to match pdr\n",
    "stock_prices         = stock_prices.filter(like='Adj Close')     # reduce to just columns with this in the name\n",
    "stock_prices.columns = stock_prices.columns.get_level_values(1)  # tickers as col names, works no matter order of tics\n",
    "\n",
    "stock_prices = stock_prices.unstack(level=0).reset_index()\n",
    "stock_prices.columns = ['Ticker', 'Date', 'Adj Close']\n",
    "stock_prices['Return'] = stock_prices.groupby('Ticker')['Adj Close'].pct_change()\n",
    "stock_prices.set_index('Date', inplace=True) \n",
    "print(stock_prices.head(10))\n",
    "stock_prices.to_csv(\"outputs/returns.csv\", index=True)"
   ]
  },
  {
   "cell_type": "code",
   "execution_count": 2,
   "id": "0ef22a9b-1720-4aa7-8b89-b30c81c4febf",
   "metadata": {},
   "outputs": [
    {
     "name": "stdout",
     "output_type": "stream",
     "text": [
      "Ticker            AMD        META      NVDA       TSLA\n",
      "Date                                                  \n",
      "2019-02-28  23.530001  160.692657  3.829051  21.325333\n",
      "2019-03-31  25.520000  165.908096  4.457048  18.657333\n",
      "2019-04-30  27.629999  192.492783  4.492791  15.912667\n",
      "2019-05-31  27.410000  176.637512  3.366233  12.344000\n",
      "2019-06-30  30.370001  192.094650  4.081179  14.897333\n",
      "2019-07-31  30.450001  193.318893  4.192758  16.107332\n",
      "2019-08-31  31.450001  184.799042  4.166809  15.040667\n",
      "2019-09-30  28.990000  177.244644  4.329989  16.058001\n",
      "2019-10-31  33.930000  190.750992  5.000370  20.994667\n",
      "2019-11-30  39.150002  200.694122  5.395382  21.996000\n",
      "2019-12-31  45.860001  204.287201  5.857404  27.888666\n",
      "2020-01-31  47.000000  200.962891  5.885533  43.371334\n",
      "2020-02-29  45.480000  191.567139  6.726964  44.532665\n",
      "2020-03-31  45.480000  166.017548  6.565811  34.933334\n",
      "2020-04-30  53.660000  193.279068  7.434112  53.367332\n"
     ]
    }
   ],
   "source": [
    "pivot_data = stock_prices.pivot(columns='Ticker', values='Adj Close')\n",
    "print(pivot_data)"
   ]
  },
  {
   "cell_type": "code",
   "execution_count": 3,
   "id": "4719ba7a-30b2-4287-8ae0-0a7a90783b16",
   "metadata": {},
   "outputs": [],
   "source": [
    "pairs = [('AMD', 'NVDA'), ('AMD', 'META'), ('NVDA','TSLA')]\n",
    "\n",
    "spread_list = []\n",
    "\n",
    "for pair in pairs:\n",
    "    ticker_1, ticker_2 = pair\n",
    "    spread = np.log(pivot_data[ticker_1]) - np.log(pivot_data[ticker_2])\n",
    "\n",
    "    spread_mean = spread.mean()\n",
    "    spread_std = spread.std()\n",
    "    z_spread = (spread - spread_mean) / spread_std\n",
    "    \n",
    "    pair_df = z_spread.reset_index()\n",
    "    pair_df['Date'] = pd.to_datetime(pair_df['Date'])  # Convert Date column to datetime\n",
    "    pair_df.set_index('Date', inplace=True)\n",
    "    pair_df['Ticker Pair'] = f'{ticker_1}-{ticker_2}'\n",
    "    pair_df.columns = ['Spread', 'Ticker Pair']\n",
    "    spread_list.append(pair_df[['Ticker Pair', 'Spread']])\n",
    "\n",
    "spread_df = pd.concat(spread_list)"
   ]
  },
  {
   "cell_type": "code",
   "execution_count": 4,
   "id": "4f85940b-c40e-47e5-81e0-9f95d788173f",
   "metadata": {},
   "outputs": [
    {
     "name": "stdout",
     "output_type": "stream",
     "text": [
      "Ticker           AMD      META      NVDA      TSLA\n",
      "Date                                              \n",
      "2019-02-28       NaN       NaN       NaN       NaN\n",
      "2019-03-31  0.084573  0.032456  0.164009 -0.125109\n",
      "2019-04-30  0.082680  0.160237  0.008019 -0.147109\n",
      "2019-05-31 -0.007962 -0.082368 -0.250748 -0.224266\n",
      "2019-06-30  0.107990  0.087508  0.212387  0.206848\n",
      "2019-07-31  0.002634  0.006373  0.027340  0.081223\n",
      "2019-08-31  0.032841 -0.044071 -0.006189 -0.066222\n",
      "2019-09-30 -0.078219 -0.040879  0.039162  0.067639\n",
      "2019-10-31  0.170404  0.076202  0.154823  0.307427\n",
      "2019-11-30  0.153846  0.052126  0.078997  0.047695\n",
      "2019-12-31  0.171392  0.017903  0.085633  0.267897\n",
      "2020-01-31  0.024858 -0.016273  0.004802  0.555160\n",
      "2020-02-29 -0.032340 -0.046754  0.142966  0.026776\n",
      "2020-03-31  0.000000 -0.133371 -0.023956 -0.215557\n",
      "2020-04-30  0.179859  0.164209  0.132246  0.527691\n"
     ]
    }
   ],
   "source": [
    "pivot_data = stock_prices.pivot(columns='Ticker', values='Return')\n",
    "print(pivot_data)"
   ]
  },
  {
   "cell_type": "code",
   "execution_count": 5,
   "id": "73af4d4d-0430-4dcb-bdfc-5f2f619481eb",
   "metadata": {},
   "outputs": [
    {
     "name": "stdout",
     "output_type": "stream",
     "text": [
      "           Ticker Pair    Return\n",
      "Date                            \n",
      "2019-02-28    AMD-NVDA       NaN\n",
      "2019-03-31    AMD-NVDA -0.079436\n",
      "2019-04-30    AMD-NVDA  0.074661\n",
      "2019-05-31    AMD-NVDA  0.242785\n",
      "2019-06-30    AMD-NVDA -0.104398\n",
      "2019-07-31    AMD-NVDA -0.024706\n",
      "2019-08-31    AMD-NVDA  0.039030\n",
      "2019-09-30    AMD-NVDA -0.117381\n",
      "2019-10-31    AMD-NVDA  0.015581\n",
      "2019-11-30    AMD-NVDA  0.074849\n",
      "2019-12-31    AMD-NVDA  0.085759\n",
      "2020-01-31    AMD-NVDA  0.020056\n",
      "2020-02-29    AMD-NVDA -0.175307\n",
      "2020-03-31    AMD-NVDA  0.023956\n",
      "2020-04-30    AMD-NVDA  0.047613\n",
      "2019-02-28    AMD-META       NaN\n",
      "2019-03-31    AMD-META  0.052117\n",
      "2019-04-30    AMD-META -0.077557\n",
      "2019-05-31    AMD-META  0.074406\n",
      "2019-06-30    AMD-META  0.020482\n",
      "2019-07-31    AMD-META -0.003739\n",
      "2019-08-31    AMD-META  0.076912\n",
      "2019-09-30    AMD-META -0.037340\n",
      "2019-10-31    AMD-META  0.094202\n",
      "2019-11-30    AMD-META  0.101720\n",
      "2019-12-31    AMD-META  0.153489\n",
      "2020-01-31    AMD-META  0.041131\n",
      "2020-02-29    AMD-META  0.014413\n",
      "2020-03-31    AMD-META  0.133371\n",
      "2020-04-30    AMD-META  0.015651\n",
      "2019-02-28   NVDA-TSLA       NaN\n",
      "2019-03-31   NVDA-TSLA  0.289118\n",
      "2019-04-30   NVDA-TSLA  0.155129\n",
      "2019-05-31   NVDA-TSLA -0.026482\n",
      "2019-06-30   NVDA-TSLA  0.005539\n",
      "2019-07-31   NVDA-TSLA -0.053883\n",
      "2019-08-31   NVDA-TSLA  0.060033\n",
      "2019-09-30   NVDA-TSLA -0.028477\n",
      "2019-10-31   NVDA-TSLA -0.152605\n",
      "2019-11-30   NVDA-TSLA  0.031302\n",
      "2019-12-31   NVDA-TSLA -0.182264\n",
      "2020-01-31   NVDA-TSLA -0.550358\n",
      "2020-02-29   NVDA-TSLA  0.116190\n",
      "2020-03-31   NVDA-TSLA  0.191601\n",
      "2020-04-30   NVDA-TSLA -0.395445\n"
     ]
    }
   ],
   "source": [
    "pairs = [('AMD', 'NVDA'), ('AMD', 'META'), ('NVDA','TSLA')]\n",
    "\n",
    "spread_list = []\n",
    "\n",
    "for pair in pairs:\n",
    "    ticker_1, ticker_2 = pair\n",
    "    spread = pivot_data[ticker_1] - pivot_data[ticker_2]\n",
    "    pair_df = spread.reset_index()\n",
    "    pair_df['Date'] = pd.to_datetime(pair_df['Date'])  # Convert Date column to datetime\n",
    "    pair_df.set_index('Date', inplace=True)\n",
    "    pair_df['Ticker Pair'] = f'{ticker_1}-{ticker_2}'\n",
    "    pair_df.columns = ['Return', 'Ticker Pair']\n",
    "    spread_list.append(pair_df[['Ticker Pair', 'Return']])\n",
    "\n",
    "return_spread_df = pd.concat(spread_list)\n",
    "\n",
    "print(return_spread_df)"
   ]
  },
  {
   "cell_type": "code",
   "execution_count": 6,
   "id": "9a8bcfbf-b284-4e14-b6e7-050b265723e7",
   "metadata": {},
   "outputs": [],
   "source": [
    "final_df = spread_df.merge(return_spread_df, how = 'inner', left_on = ['Date', 'Ticker Pair'], right_on = ['Date', 'Ticker Pair'],validate = 'one_to_one')"
   ]
  },
  {
   "cell_type": "code",
   "execution_count": 7,
   "id": "4cac2bd1-dbec-41a0-9ae6-b8a2f2b56bea",
   "metadata": {},
   "outputs": [],
   "source": [
    "final_df.to_csv(\"outputs/spreads.csv\", index=True)"
   ]
  },
  {
   "cell_type": "code",
   "execution_count": null,
   "id": "b9e8290c-ca38-4d23-a719-9744fd321989",
   "metadata": {},
   "outputs": [],
   "source": []
  }
 ],
 "metadata": {
  "kernelspec": {
   "display_name": "Python [conda env:base] *",
   "language": "python",
   "name": "conda-base-py"
  },
  "language_info": {
   "codemirror_mode": {
    "name": "ipython",
    "version": 3
   },
   "file_extension": ".py",
   "mimetype": "text/x-python",
   "name": "python",
   "nbconvert_exporter": "python",
   "pygments_lexer": "ipython3",
   "version": "3.12.7"
  }
 },
 "nbformat": 4,
 "nbformat_minor": 5
}
