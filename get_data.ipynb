{
 "cells": [
  {
   "cell_type": "code",
   "execution_count": 68,
   "id": "3be849e6-c0cc-4920-bbbc-c910c24de093",
   "metadata": {},
   "outputs": [
    {
     "name": "stderr",
     "output_type": "stream",
     "text": [
      "[*********************100%***********************]  14 of 14 completed\n"
     ]
    },
    {
     "name": "stdout",
     "output_type": "stream",
     "text": [
      "           Ticker  Adj Close    Return\n",
      "Date                                  \n",
      "2016-01-10   AAPL  21.936222       NaN\n",
      "2016-01-17   AAPL  21.974682  0.001753\n",
      "2016-01-24   AAPL  22.945250  0.044168\n",
      "2016-01-31   AAPL  22.022194 -0.040229\n",
      "2016-02-07   AAPL  21.386499 -0.028866\n"
     ]
    }
   ],
   "source": [
    "import yfinance as yf\n",
    "import pandas as pd\n",
    "import time\n",
    "from datetime import datetime\n",
    "import numpy as np\n",
    "\n",
    "stocks = ['AMD', 'NVDA', 'META', 'GOOGL', 'TSLA', 'GM', 'AAPL', 'MSFT', 'NFLX', 'DIS', 'JPM', 'BAC', 'KO', 'PEP']\n",
    "start = datetime(2016, 1, 1)\n",
    "end = datetime(2018, 12, 30)\n",
    "\n",
    "stock_prices         = yf.download(stocks, start , end, auto_adjust = False)\n",
    "stock_prices = stock_prices.resample('W').last()\n",
    "stock_prices.index   = stock_prices.index.tz_localize(None)      # change yf date format to match pdr\n",
    "stock_prices         = stock_prices.filter(like='Adj Close')     # reduce to just columns with this in the name\n",
    "stock_prices.columns = stock_prices.columns.get_level_values(1)  # tickers as col names, works no matter order of tics\n",
    "\n",
    "stock_prices = stock_prices.unstack(level=0).reset_index()\n",
    "stock_prices.columns = ['Ticker', 'Date', 'Adj Close']\n",
    "stock_prices['Return'] = stock_prices.groupby('Ticker')['Adj Close'].pct_change()\n",
    "stock_prices.set_index('Date', inplace=True) \n",
    "print(stock_prices.head())\n",
    "stock_prices.to_csv(\"outputs/returns_weekly_large.csv\", index=True)"
   ]
  },
  {
   "cell_type": "code",
   "execution_count": 38,
   "id": "0ef22a9b-1720-4aa7-8b89-b30c81c4febf",
   "metadata": {},
   "outputs": [
    {
     "name": "stdout",
     "output_type": "stream",
     "text": [
      "Ticker           AAPL        AMD        BAC         DIS         GM      GOOGL  \\\n",
      "Date                                                                            \n",
      "2016-01-10  21.936222   2.140000  12.412969   92.494095  23.942945  36.371613   \n",
      "2016-01-17  21.974682   2.030000  11.808654   87.508263  23.975378  35.355469   \n",
      "2016-01-24  22.945250   2.020000  11.073674   90.304070  23.740248  37.095650   \n",
      "2016-01-31  22.022194   2.200000  11.547329   89.297577  24.032133  37.886368   \n",
      "2016-02-07  21.386499   1.980000  10.575524   87.508263  23.140255  35.020569   \n",
      "...               ...        ...        ...         ...        ...        ...   \n",
      "2018-12-02  42.595020  21.299999  24.232344  111.835831  34.620541  55.218502   \n",
      "2018-12-09  40.188354  19.459999  21.819447  109.278023  31.979309  52.080006   \n",
      "2018-12-16  39.470390  19.900000  21.004333  109.492691  32.357269  52.335281   \n",
      "2018-12-23  35.952213  16.930000  20.051929  101.705261  30.402925  49.326672   \n",
      "2018-12-30  37.264076  17.820000  20.927113  104.710938  31.269466  52.084984   \n",
      "\n",
      "Ticker            JPM         KO        META        MSFT        NFLX  \\\n",
      "Date                                                                   \n",
      "2016-01-10  45.697216  30.980505   96.873436   46.066345  111.389999   \n",
      "2016-01-17  44.239113  30.973036   94.524506   44.886734  104.040001   \n",
      "2016-01-24  44.169304  31.391010   97.480576   46.031128  100.720001   \n",
      "2016-01-31  46.147045  32.032845  111.683632   48.495983   91.839996   \n",
      "2016-02-07  44.789780  31.674593  103.581818   44.156082   82.790001   \n",
      "...               ...        ...         ...         ...         ...   \n",
      "2018-12-02  92.266785  41.531586  139.950424  104.310097  286.130005   \n",
      "2018-12-09  85.711281  40.452084  136.775375   98.600258  265.140015   \n",
      "2018-12-16  83.221832  40.658100  143.384216   99.738472  266.839996   \n",
      "2018-12-23  78.143364  39.199543  124.363869   92.401314  246.389999   \n",
      "2018-12-30  80.350685  38.894657  132.575165   94.433136  256.079987   \n",
      "\n",
      "Ticker          NVDA         PEP       TSLA  \n",
      "Date                                         \n",
      "2016-01-10  0.722883   74.130806  14.066667  \n",
      "2016-01-17  0.661403   71.629562  13.666000  \n",
      "2016-01-24  0.694095   73.093697  13.503333  \n",
      "2016-01-31  0.714588   75.724609  12.746667  \n",
      "2016-02-07  0.644813   74.214684  10.840000  \n",
      "...              ...         ...        ...  \n",
      "2018-12-02  4.052492  100.869667  23.365334  \n",
      "2018-12-09  3.660211   96.567879  23.864668  \n",
      "2018-12-16  3.631448   95.008743  24.380667  \n",
      "2018-12-23  3.212882   91.231743  21.318001  \n",
      "2018-12-30  3.314052   92.015465  22.257999  \n",
      "\n",
      "[156 rows x 14 columns]\n"
     ]
    }
   ],
   "source": [
    "pivot_data = stock_prices.pivot(columns='Ticker', values='Adj Close')\n",
    "print(pivot_data)"
   ]
  },
  {
   "cell_type": "code",
   "execution_count": 39,
   "id": "4719ba7a-30b2-4287-8ae0-0a7a90783b16",
   "metadata": {},
   "outputs": [],
   "source": [
    "pairs =[\n",
    "    ('AAPL', 'MSFT'),\n",
    "    ('GOOGL', 'META'),\n",
    "    ('AMD', 'NVDA'),\n",
    "    ('TSLA', 'GM'),\n",
    "    ('KO', 'PEP'),\n",
    "    ('NFLX', 'DIS'),\n",
    "    ('JPM', 'BAC'),\n",
    "    ('GOOGL', 'AAPL'),\n",
    "    ('META', 'NFLX'),\n",
    "    ('TSLA', 'NVDA')\n",
    "]\n",
    "\n",
    "spread_list = []\n",
    "\n",
    "for pair in pairs:\n",
    "    ticker_1, ticker_2 = pair\n",
    "    spread = np.log(pivot_data[ticker_1]) - np.log(pivot_data[ticker_2])\n",
    "\n",
    "    spread_mean = spread.mean()\n",
    "    spread_std = spread.std()\n",
    "    z_spread = (spread - spread_mean) / spread_std\n",
    "    \n",
    "    pair_df = z_spread.reset_index()\n",
    "    pair_df['Date'] = pd.to_datetime(pair_df['Date'])  # Convert Date column to datetime\n",
    "    pair_df.set_index('Date', inplace=True)\n",
    "    pair_df['Ticker Pair'] = f'{ticker_1}-{ticker_2}'\n",
    "    pair_df.columns = ['Spread', 'Ticker Pair']\n",
    "    spread_list.append(pair_df[['Ticker Pair', 'Spread']])\n",
    "\n",
    "spread_df = pd.concat(spread_list)"
   ]
  },
  {
   "cell_type": "code",
   "execution_count": 63,
   "id": "4f85940b-c40e-47e5-81e0-9f95d788173f",
   "metadata": {},
   "outputs": [
    {
     "name": "stdout",
     "output_type": "stream",
     "text": [
      "Ticker        AAPL         AMD         BAC         DIS          GM  \\\n",
      "count   155.000000  155.000000  155.000000  155.000000  155.000000   \n",
      "mean      0.004039    0.018037    0.004080    0.001110    0.002337   \n",
      "std       0.035224    0.094845    0.037764    0.025013    0.035312   \n",
      "min      -0.112982   -0.254861   -0.099573   -0.071123   -0.085065   \n",
      "25%      -0.015185   -0.036686   -0.017357   -0.014471   -0.020077   \n",
      "50%       0.006513    0.012590    0.001937   -0.000304    0.001064   \n",
      "75%       0.021597    0.062172    0.027590    0.015225    0.023751   \n",
      "max       0.132516    0.477778    0.149245    0.072773    0.127937   \n",
      "\n",
      "Ticker       GOOGL         JPM          KO        META        MSFT  \\\n",
      "count   155.000000  155.000000  155.000000  155.000000  155.000000   \n",
      "mean      0.002762    0.004067    0.001635    0.002742    0.004975   \n",
      "std       0.029769    0.029193    0.018240    0.037464    0.025803   \n",
      "min      -0.095088   -0.073025   -0.077038   -0.166952   -0.089490   \n",
      "25%      -0.012528   -0.012857   -0.010044   -0.010350   -0.007892   \n",
      "50%       0.004601    0.001834    0.004006    0.004891    0.005025   \n",
      "75%       0.021423    0.024921    0.012729    0.023285    0.020691   \n",
      "max       0.077225    0.131789    0.045296    0.145701    0.075871   \n",
      "\n",
      "Ticker        NFLX        NVDA         PEP        TSLA  \n",
      "count   155.000000  155.000000  155.000000  155.000000  \n",
      "mean      0.007040    0.011773    0.001604    0.004940  \n",
      "std       0.058722    0.062714    0.020480    0.063401  \n",
      "min      -0.139987   -0.200515   -0.063116   -0.149582  \n",
      "25%      -0.031854   -0.022639   -0.009009   -0.028837  \n",
      "50%       0.006412    0.013199    0.001203    0.003475  \n",
      "75%       0.034942    0.040666    0.013645    0.045640  \n",
      "max       0.256529    0.301909    0.056760    0.272692  \n"
     ]
    }
   ],
   "source": [
    "pivot_data = stock_prices.pivot(columns='Ticker', values='Return')\n",
    "print(pivot_data.describe())"
   ]
  },
  {
   "cell_type": "code",
   "execution_count": 41,
   "id": "73af4d4d-0430-4dcb-bdfc-5f2f619481eb",
   "metadata": {},
   "outputs": [
    {
     "name": "stdout",
     "output_type": "stream",
     "text": [
      "           Ticker Pair    Return\n",
      "Date                            \n",
      "2016-01-10   AAPL-MSFT       NaN\n",
      "2016-01-17   AAPL-MSFT  0.027360\n",
      "2016-01-24   AAPL-MSFT  0.018672\n",
      "2016-01-31   AAPL-MSFT -0.093776\n",
      "2016-02-07   AAPL-MSFT  0.060624\n",
      "...                ...       ...\n",
      "2018-12-02   TSLA-NVDA -0.052578\n",
      "2018-12-09   TSLA-NVDA  0.118171\n",
      "2018-12-16   TSLA-NVDA  0.029480\n",
      "2018-12-23   TSLA-NVDA -0.010357\n",
      "2018-12-30   TSLA-NVDA  0.012605\n",
      "\n",
      "[1560 rows x 2 columns]\n"
     ]
    }
   ],
   "source": [
    "pairs =[\n",
    "    ('AAPL', 'MSFT'),\n",
    "    ('GOOGL', 'META'),\n",
    "    ('AMD', 'NVDA'),\n",
    "    ('TSLA', 'GM'),\n",
    "    ('KO', 'PEP'),\n",
    "    ('NFLX', 'DIS'),\n",
    "    ('JPM', 'BAC'),\n",
    "    ('GOOGL', 'AAPL'),\n",
    "    ('META', 'NFLX'),\n",
    "    ('TSLA', 'NVDA')\n",
    "]\n",
    "\n",
    "\n",
    "spread_list = []\n",
    "\n",
    "for pair in pairs:\n",
    "    ticker_1, ticker_2 = pair\n",
    "    spread = pivot_data[ticker_1] - pivot_data[ticker_2]\n",
    "    pair_df = spread.reset_index()\n",
    "    pair_df['Date'] = pd.to_datetime(pair_df['Date'])  # Convert Date column to datetime\n",
    "    pair_df.set_index('Date', inplace=True)\n",
    "    pair_df['Ticker Pair'] = f'{ticker_1}-{ticker_2}'\n",
    "    pair_df.columns = ['Return', 'Ticker Pair']\n",
    "    spread_list.append(pair_df[['Ticker Pair', 'Return']])\n",
    "\n",
    "return_spread_df = pd.concat(spread_list)\n",
    "\n",
    "print(return_spread_df)"
   ]
  },
  {
   "cell_type": "code",
   "execution_count": 42,
   "id": "9a8bcfbf-b284-4e14-b6e7-050b265723e7",
   "metadata": {},
   "outputs": [],
   "source": [
    "final_df = spread_df.merge(return_spread_df, how = 'inner', left_on = ['Date', 'Ticker Pair'], right_on = ['Date', 'Ticker Pair'],validate = 'one_to_one')"
   ]
  },
  {
   "cell_type": "code",
   "execution_count": 43,
   "id": "4cac2bd1-dbec-41a0-9ae6-b8a2f2b56bea",
   "metadata": {},
   "outputs": [],
   "source": [
    "final_df.to_csv(\"outputs/spreads_weekly_large.csv\", index=True)"
   ]
  },
  {
   "cell_type": "code",
   "execution_count": 71,
   "id": "b9e8290c-ca38-4d23-a719-9744fd321989",
   "metadata": {},
   "outputs": [
    {
     "name": "stderr",
     "output_type": "stream",
     "text": [
      "[                       0%                       ]"
     ]
    },
    {
     "name": "stderr",
     "output_type": "stream",
     "text": [
      "[*********************100%***********************]  14 of 14 completed"
     ]
    },
    {
     "name": "stdout",
     "output_type": "stream",
     "text": [
      "        Adj Close      Return\n",
      "count  728.000000  714.000000\n",
      "mean    88.050744    0.008063\n",
      "std     83.914285    0.039631\n",
      "min      3.366233   -0.155794\n",
      "25%     30.179365   -0.012664\n",
      "50%     55.857946    0.007765\n",
      "75%    117.964020    0.027176\n",
      "max    385.029999    0.277019\n"
     ]
    },
    {
     "name": "stderr",
     "output_type": "stream",
     "text": [
      "\n"
     ]
    }
   ],
   "source": [
    "stocks = ['AMD', 'NVDA', 'META', 'GOOGL', 'TSLA', 'GM', 'AAPL', 'MSFT', 'NFLX', 'DIS', 'JPM', 'BAC', 'KO', 'PEP']\n",
    "start = datetime(2019, 1, 1)\n",
    "end = datetime(2019, 12, 30)\n",
    "\n",
    "stock_prices         = yf.download(stocks, start , end, auto_adjust = False)\n",
    "stock_prices = stock_prices.resample('W').last()\n",
    "stock_prices.index   = stock_prices.index.tz_localize(None)      # change yf date format to match pdr\n",
    "stock_prices         = stock_prices.filter(like='Adj Close')     # reduce to just columns with this in the name\n",
    "stock_prices.columns = stock_prices.columns.get_level_values(1)  # tickers as col names, works no matter order of tics\n",
    "\n",
    "stock_prices = stock_prices.unstack(level=0).reset_index()\n",
    "stock_prices.columns = ['Ticker', 'Date', 'Adj Close']\n",
    "stock_prices['Return'] = stock_prices.groupby('Ticker')['Adj Close'].pct_change()\n",
    "stock_prices.set_index('Date', inplace=True) \n",
    "print(stock_prices.describe())\n"
   ]
  },
  {
   "cell_type": "code",
   "execution_count": 72,
   "id": "96e6c1ae",
   "metadata": {},
   "outputs": [
    {
     "name": "stdout",
     "output_type": "stream",
     "text": [
      "count    510.000000\n",
      "mean       0.000142\n",
      "std        0.048090\n",
      "min       -0.184010\n",
      "25%       -0.021294\n",
      "50%        0.000695\n",
      "75%        0.019722\n",
      "max        0.261260\n",
      "Name: Return, dtype: float64\n",
      "Ticker       AAPL        AMD        BAC        DIS         GM      GOOGL  \\\n",
      "count   51.000000  51.000000  51.000000  51.000000  51.000000  51.000000   \n",
      "mean     0.013907   0.019417   0.007434   0.006287   0.003237   0.004853   \n",
      "std      0.028009   0.062235   0.036013   0.030506   0.035514   0.027414   \n",
      "min     -0.065222  -0.134627  -0.078157  -0.058542  -0.067076  -0.068787   \n",
      "25%     -0.003909  -0.024496  -0.009016  -0.010861  -0.022816  -0.012134   \n",
      "50%      0.016401   0.024667   0.009556   0.001890   0.003095   0.005585   \n",
      "75%      0.029924   0.055068   0.022778   0.024324   0.019369   0.021177   \n",
      "max      0.086137   0.182415   0.125624   0.130957   0.115511   0.100455   \n",
      "\n",
      "Ticker        JPM         KO       META       MSFT       NFLX       NVDA  \\\n",
      "count   51.000000  51.000000  51.000000  51.000000  51.000000  51.000000   \n",
      "mean     0.007142   0.003816   0.008640   0.009274   0.003106   0.012209   \n",
      "std      0.026132   0.021402   0.033650   0.021874   0.047940   0.049950   \n",
      "min     -0.063726  -0.086061  -0.067551  -0.040963  -0.155794  -0.096285   \n",
      "25%     -0.011268  -0.007387  -0.015250  -0.007902  -0.023207  -0.018402   \n",
      "50%      0.008902   0.005704   0.009731   0.009847   0.004473   0.020519   \n",
      "75%      0.022953   0.016428   0.021553   0.022194   0.026957   0.047642   \n",
      "max      0.067667   0.054096   0.112073   0.062419   0.134489   0.127257   \n",
      "\n",
      "Ticker        PEP       TSLA  \n",
      "count   51.000000  51.000000  \n",
      "mean     0.005043   0.008517  \n",
      "std      0.018296   0.073085  \n",
      "min     -0.027751  -0.139501  \n",
      "25%     -0.007179  -0.037478  \n",
      "50%      0.003732   0.006802  \n",
      "75%      0.013770   0.052423  \n",
      "max      0.050369   0.277019  \n"
     ]
    }
   ],
   "source": [
    "\n",
    "pivot_data = stock_prices.pivot(columns='Ticker', values='Adj Close')\n",
    "\n",
    "pairs =[\n",
    "    ('AAPL', 'MSFT'),\n",
    "    ('GOOGL', 'META'),\n",
    "    ('AMD', 'NVDA'),\n",
    "    ('TSLA', 'GM'),\n",
    "    ('KO', 'PEP'),\n",
    "    ('NFLX', 'DIS'),\n",
    "    ('JPM', 'BAC'),\n",
    "    ('GOOGL', 'AAPL'),\n",
    "    ('META', 'NFLX'),\n",
    "    ('TSLA', 'NVDA')\n",
    "]\n",
    "\n",
    "spread_list = []\n",
    "\n",
    "for pair in pairs:\n",
    "    ticker_1, ticker_2 = pair\n",
    "    spread = np.log(pivot_data[ticker_1]) - np.log(pivot_data[ticker_2])\n",
    "\n",
    "    spread_mean = spread.mean()\n",
    "    spread_std = spread.std()\n",
    "    z_spread = (spread - spread_mean) / spread_std\n",
    "    \n",
    "    pair_df = z_spread.reset_index()\n",
    "    pair_df['Date'] = pd.to_datetime(pair_df['Date'])  # Convert Date column to datetime\n",
    "    pair_df.set_index('Date', inplace=True)\n",
    "    pair_df['Ticker Pair'] = f'{ticker_1}-{ticker_2}'\n",
    "    pair_df.columns = ['Spread', 'Ticker Pair']\n",
    "    spread_list.append(pair_df[['Ticker Pair', 'Spread']])\n",
    "\n",
    "spread_df = pd.concat(spread_list)\n",
    "\n",
    "pivot_data = stock_prices.pivot(columns='Ticker', values='Return')\n",
    "\n",
    "spread_list = []\n",
    "\n",
    "for pair in pairs:\n",
    "    ticker_1, ticker_2 = pair\n",
    "    spread = pivot_data[ticker_1] - pivot_data[ticker_2]\n",
    "    pair_df = spread.reset_index()\n",
    "    pair_df['Date'] = pd.to_datetime(pair_df['Date'])  \n",
    "    pair_df.set_index('Date', inplace=True)\n",
    "    pair_df['Ticker Pair'] = f'{ticker_1}-{ticker_2}'\n",
    "    pair_df.columns = ['Return', 'Ticker Pair']\n",
    "    spread_list.append(pair_df[['Ticker Pair', 'Return']])\n",
    "\n",
    "return_spread_df = pd.concat(spread_list)\n",
    "\n",
    "\n",
    "test_df = spread_df.merge(return_spread_df, how = 'inner', left_on = ['Date', 'Ticker Pair'], right_on = ['Date', 'Ticker Pair'],validate = 'one_to_one')\n",
    "test_df.to_csv(\"outputs/spreads_testing.csv\", index=True)\n",
    "\n",
    "print(test_df['Return'].describe())\n",
    "print(pivot_data.describe())"
   ]
  },
  {
   "cell_type": "code",
   "execution_count": null,
   "id": "40ee9846",
   "metadata": {},
   "outputs": [],
   "source": []
  }
 ],
 "metadata": {
  "kernelspec": {
   "display_name": "Python [conda env:base] *",
   "language": "python",
   "name": "conda-base-py"
  },
  "language_info": {
   "codemirror_mode": {
    "name": "ipython",
    "version": 3
   },
   "file_extension": ".py",
   "mimetype": "text/x-python",
   "name": "python",
   "nbconvert_exporter": "python",
   "pygments_lexer": "ipython3",
   "version": "3.12.7"
  }
 },
 "nbformat": 4,
 "nbformat_minor": 5
}
