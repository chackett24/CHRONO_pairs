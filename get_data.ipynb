{
 "cells": [
  {
   "cell_type": "code",
<<<<<<< Updated upstream
   "execution_count": 1,
=======
   "execution_count": 98,
>>>>>>> Stashed changes
   "id": "3be849e6-c0cc-4920-bbbc-c910c24de093",
   "metadata": {},
   "outputs": [
    {
     "name": "stderr",
     "output_type": "stream",
     "text": [
      "[*********************100%***********************]  4 of 4 completed"
     ]
    },
    {
     "name": "stdout",
     "output_type": "stream",
     "text": [
      "           Ticker  Adj Close    Return\n",
      "Date                                  \n",
      "2019-02-28    AMD  23.530001       NaN\n",
      "2019-03-31    AMD  25.520000  0.084573\n",
      "2019-04-30    AMD  27.629999  0.082680\n",
      "2019-05-31    AMD  27.410000 -0.007962\n",
      "2019-06-30    AMD  30.370001  0.107990\n",
      "2019-07-31    AMD  30.450001  0.002634\n",
      "2019-08-31    AMD  31.450001  0.032841\n",
      "2019-09-30    AMD  28.990000 -0.078219\n",
      "2019-10-31    AMD  33.930000  0.170404\n",
      "2019-11-30    AMD  39.150002  0.153846\n"
     ]
    },
    {
     "name": "stderr",
     "output_type": "stream",
     "text": [
      "\n"
     ]
    }
   ],
   "source": [
    "import yfinance as yf\n",
    "import pandas as pd\n",
    "import time\n",
    "from datetime import datetime\n",
    "\n",
    "stocks = ['AMD', 'NVDA', 'META', 'TSLA']\n",
    "start = datetime(2019, 2, 1)\n",
    "end = datetime(2020, 4, 30)\n",
    "\n",
    "stock_prices         = yf.download(stocks, start , end, auto_adjust = False)\n",
    "stock_prices = stock_prices.resample('ME').last()\n",
    "stock_prices.index   = stock_prices.index.tz_localize(None)      # change yf date format to match pdr\n",
    "stock_prices         = stock_prices.filter(like='Adj Close')     # reduce to just columns with this in the name\n",
    "stock_prices.columns = stock_prices.columns.get_level_values(1)  # tickers as col names, works no matter order of tics\n",
    "\n",
    "stock_prices = stock_prices.unstack(level=0).reset_index()\n",
    "stock_prices.columns = ['Ticker', 'Date', 'Adj Close']\n",
    "stock_prices['Return'] = stock_prices.groupby('Ticker')['Adj Close'].pct_change()\n",
    "stock_prices.set_index('Date', inplace=True) \n",
    "print(stock_prices.head(10))\n",
    "stock_prices.to_csv(\"outputs/returns.csv\", index=True)"
   ]
  },
  {
   "cell_type": "code",
   "execution_count": 93,
   "id": "0ef22a9b-1720-4aa7-8b89-b30c81c4febf",
   "metadata": {},
   "outputs": [
    {
     "name": "stdout",
     "output_type": "stream",
     "text": [
      "Ticker            AMD        META      NVDA       TSLA\n",
      "Date                                                  \n",
      "2019-02-28  23.530001  160.692657  3.829050  21.325333\n",
      "2019-03-31  25.520000  165.908066  4.457049  18.657333\n",
      "2019-04-30  27.629999  192.492783  4.492793  15.912667\n",
      "2019-05-31  27.410000  176.637527  3.366233  12.344000\n",
      "2019-06-30  30.370001  192.094666  4.081179  14.897333\n",
      "2019-07-31  30.450001  193.318878  4.192758  16.107332\n",
      "2019-08-31  31.450001  184.799042  4.166809  15.040667\n",
      "2019-09-30  28.990000  177.244644  4.329988  16.058001\n",
      "2019-10-31  33.930000  190.750977  5.000369  20.994667\n",
      "2019-11-30  39.150002  200.694138  5.395382  21.996000\n",
      "2019-12-31  45.860001  204.287186  5.857403  27.888666\n",
      "2020-01-31  47.000000  200.962875  5.885532  43.371334\n",
      "2020-02-29  45.480000  191.567154  6.726964  44.532665\n",
      "2020-03-31  45.480000  166.017548  6.565810  34.933334\n",
      "2020-04-30  53.660000  193.279083  7.434112  53.367332\n"
     ]
    }
   ],
   "source": [
    "pivot_data = stock_prices.pivot(columns='Ticker', values='Adj Close')\n",
    "print(pivot_data)"
   ]
  },
  {
   "cell_type": "code",
   "execution_count": 96,
   "id": "4719ba7a-30b2-4287-8ae0-0a7a90783b16",
   "metadata": {},
   "outputs": [
    {
     "name": "stdout",
     "output_type": "stream",
     "text": [
      "           Ticker Pair      Spread\n",
      "Date                              \n",
      "2019-02-28    AMD-NVDA   19.700950\n",
      "2019-03-31    AMD-NVDA   21.062952\n",
      "2019-04-30    AMD-NVDA   23.137207\n",
      "2019-05-31    AMD-NVDA   24.043767\n",
      "2019-06-30    AMD-NVDA   26.288822\n",
      "2019-07-31    AMD-NVDA   26.257243\n",
      "2019-08-31    AMD-NVDA   27.283192\n",
      "2019-09-30    AMD-NVDA   24.660011\n",
      "2019-10-31    AMD-NVDA   28.929632\n",
      "2019-11-30    AMD-NVDA   33.754620\n",
      "2019-12-31    AMD-NVDA   40.002597\n",
      "2020-01-31    AMD-NVDA   41.114468\n",
      "2020-02-29    AMD-NVDA   38.753035\n",
      "2020-03-31    AMD-NVDA   38.914190\n",
      "2020-04-30    AMD-NVDA   46.225888\n",
      "2019-02-28    AMD-META -137.162657\n",
      "2019-03-31    AMD-META -140.388065\n",
      "2019-04-30    AMD-META -164.862783\n",
      "2019-05-31    AMD-META -149.227528\n",
      "2019-06-30    AMD-META -161.724665\n",
      "2019-07-31    AMD-META -162.868877\n",
      "2019-08-31    AMD-META -153.349041\n",
      "2019-09-30    AMD-META -148.254644\n",
      "2019-10-31    AMD-META -156.820976\n",
      "2019-11-30    AMD-META -161.544136\n",
      "2019-12-31    AMD-META -158.427185\n",
      "2020-01-31    AMD-META -153.962875\n",
      "2020-02-29    AMD-META -146.087154\n",
      "2020-03-31    AMD-META -120.537548\n",
      "2020-04-30    AMD-META -139.619083\n",
      "2019-02-28   TSLA-META -139.367325\n",
      "2019-03-31   TSLA-META -147.250732\n",
      "2019-04-30   TSLA-META -176.580115\n",
      "2019-05-31   TSLA-META -164.293528\n",
      "2019-06-30   TSLA-META -177.197332\n",
      "2019-07-31   TSLA-META -177.211546\n",
      "2019-08-31   TSLA-META -169.758375\n",
      "2019-09-30   TSLA-META -161.186644\n",
      "2019-10-31   TSLA-META -169.756310\n",
      "2019-11-30   TSLA-META -178.698137\n",
      "2019-12-31   TSLA-META -176.398520\n",
      "2020-01-31   TSLA-META -157.591541\n",
      "2020-02-29   TSLA-META -147.034489\n",
      "2020-03-31   TSLA-META -131.084213\n",
      "2020-04-30   TSLA-META -139.911751\n"
     ]
    }
   ],
   "source": [
    "pairs = [('AMD', 'NVDA'), ('AMD', 'META'), ('TSLA','META')]\n",
    "\n",
    "spread_list = []\n",
    "\n",
    "for pair in pairs:\n",
    "    ticker_1, ticker_2 = pair\n",
    "    spread = pivot_data[ticker_1] - pivot_data[ticker_2]\n",
    "\n",
    "    pair_df = spread.reset_index()\n",
    "    pair_df['Ticker Pair'] = f'{ticker_1}-{ticker_2}'\n",
    "    pair_df.columns = ['Date', 'Spread', 'Ticker Pair']\n",
    "    pair_df['Date'] = pd.to_datetime(pair_df['Date'])\n",
    "    pair_df.set_index('Date', inplace=True) \n",
    "    spread_list.append(pair_df[['Ticker Pair', 'Spread']])\n",
    "\n",
    "spread_df = pd.concat(spread_list)\n",
    "\n",
    "spread_df.to_csv(\"outputs/spreads.csv\", index=True)\n",
    "\n",
    "print(spread_df)"
   ]
  },
  {
   "cell_type": "code",
   "execution_count": null,
   "id": "73af4d4d-0430-4dcb-bdfc-5f2f619481eb",
   "metadata": {},
   "outputs": [],
   "source": []
  }
 ],
 "metadata": {
  "kernelspec": {
   "display_name": "Python [conda env:base] *",
   "language": "python",
   "name": "conda-base-py"
  },
  "language_info": {
   "codemirror_mode": {
    "name": "ipython",
    "version": 3
   },
   "file_extension": ".py",
   "mimetype": "text/x-python",
   "name": "python",
   "nbconvert_exporter": "python",
   "pygments_lexer": "ipython3",
   "version": "3.11.7"
  }
 },
 "nbformat": 4,
 "nbformat_minor": 5
}
