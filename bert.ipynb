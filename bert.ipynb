{
 "cells": [
  {
   "cell_type": "markdown",
   "id": "d55b7c50",
   "metadata": {},
   "source": [
    "## In this file, we try to predict spread\n",
    "We are using BERT model to predict the spread of the assets with the following steps:\n",
    "- Using spreads.csv -- has columns: 'Date', 'Ticker Pair', 'Spread', and 'Return'\n",
    "- Making a texts column takin  \n",
    "\n",
    "Desired output format: 'Date', 'Ticker Pair', 'Spread', 'Return'\n"
   ]
  },
  {
   "cell_type": "code",
   "execution_count": null,
   "id": "976e849b",
   "metadata": {},
   "outputs": [],
   "source": [
    "#%pip install transformers torch"
   ]
  },
  {
   "cell_type": "code",
   "execution_count": 34,
   "id": "ec691c84",
   "metadata": {},
   "outputs": [
    {
     "data": {
      "application/vnd.microsoft.datawrangler.viewer.v0+json": {
       "columns": [
        {
         "name": "index",
         "rawType": "int64",
         "type": "integer"
        },
        {
         "name": "Date",
         "rawType": "datetime64[ns]",
         "type": "datetime"
        },
        {
         "name": "Ticker_Pair",
         "rawType": "object",
         "type": "string"
        },
        {
         "name": "Spread",
         "rawType": "float64",
         "type": "float"
        },
        {
         "name": "Return",
         "rawType": "float64",
         "type": "float"
        },
        {
         "name": "tick1",
         "rawType": "object",
         "type": "string"
        },
        {
         "name": "tick2",
         "rawType": "object",
         "type": "string"
        },
        {
         "name": "texts",
         "rawType": "object",
         "type": "string"
        }
       ],
       "conversionMethod": "pd.DataFrame",
       "ref": "6a46af4b-e678-42ca-9eac-646b7075be5b",
       "rows": [
        [
         "0",
         "2019-02-28 00:00:00",
         "AMD-NVDA",
         "-1.3195447824671729",
         null,
         "AMD",
         "NVDA",
         "The spread for AMD-NVDA on 2019-02-28 is -1.3195447824671729"
        ],
        [
         "1",
         "2019-03-31 00:00:00",
         "AMD-NVDA",
         "-2.016618713771842",
         "-0.0794357214284673",
         "AMD",
         "NVDA",
         "The spread for AMD-NVDA on 2019-03-31 is -2.016618713771842"
        ],
        [
         "2",
         "2019-04-30 00:00:00",
         "AMD-NVDA",
         "-1.3119697496362264",
         "0.0746601760238492",
         "AMD",
         "NVDA",
         "The spread for AMD-NVDA on 2019-04-30 is -1.3119697496362264"
        ],
        [
         "3",
         "2019-05-31 00:00:00",
         "AMD-NVDA",
         "1.4561294754854732",
         "0.2427859080761483",
         "AMD",
         "NVDA",
         "The spread for AMD-NVDA on 2019-05-31 is 1.4561294754854732"
        ],
        [
         "4",
         "2019-06-30 00:00:00",
         "AMD-NVDA",
         "0.5681220041969327",
         "-0.1043977369358117",
         "AMD",
         "NVDA",
         "The spread for AMD-NVDA on 2019-06-30 is 0.5681220041969327"
        ]
       ],
       "shape": {
        "columns": 7,
        "rows": 5
       }
      },
      "text/html": [
       "<div>\n",
       "<style scoped>\n",
       "    .dataframe tbody tr th:only-of-type {\n",
       "        vertical-align: middle;\n",
       "    }\n",
       "\n",
       "    .dataframe tbody tr th {\n",
       "        vertical-align: top;\n",
       "    }\n",
       "\n",
       "    .dataframe thead th {\n",
       "        text-align: right;\n",
       "    }\n",
       "</style>\n",
       "<table border=\"1\" class=\"dataframe\">\n",
       "  <thead>\n",
       "    <tr style=\"text-align: right;\">\n",
       "      <th></th>\n",
       "      <th>Date</th>\n",
       "      <th>Ticker_Pair</th>\n",
       "      <th>Spread</th>\n",
       "      <th>Return</th>\n",
       "      <th>tick1</th>\n",
       "      <th>tick2</th>\n",
       "      <th>texts</th>\n",
       "    </tr>\n",
       "  </thead>\n",
       "  <tbody>\n",
       "    <tr>\n",
       "      <th>0</th>\n",
       "      <td>2019-02-28</td>\n",
       "      <td>AMD-NVDA</td>\n",
       "      <td>-1.319545</td>\n",
       "      <td>NaN</td>\n",
       "      <td>AMD</td>\n",
       "      <td>NVDA</td>\n",
       "      <td>The spread for AMD-NVDA on 2019-02-28 is -1.31...</td>\n",
       "    </tr>\n",
       "    <tr>\n",
       "      <th>1</th>\n",
       "      <td>2019-03-31</td>\n",
       "      <td>AMD-NVDA</td>\n",
       "      <td>-2.016619</td>\n",
       "      <td>-0.079436</td>\n",
       "      <td>AMD</td>\n",
       "      <td>NVDA</td>\n",
       "      <td>The spread for AMD-NVDA on 2019-03-31 is -2.01...</td>\n",
       "    </tr>\n",
       "    <tr>\n",
       "      <th>2</th>\n",
       "      <td>2019-04-30</td>\n",
       "      <td>AMD-NVDA</td>\n",
       "      <td>-1.311970</td>\n",
       "      <td>0.074660</td>\n",
       "      <td>AMD</td>\n",
       "      <td>NVDA</td>\n",
       "      <td>The spread for AMD-NVDA on 2019-04-30 is -1.31...</td>\n",
       "    </tr>\n",
       "    <tr>\n",
       "      <th>3</th>\n",
       "      <td>2019-05-31</td>\n",
       "      <td>AMD-NVDA</td>\n",
       "      <td>1.456129</td>\n",
       "      <td>0.242786</td>\n",
       "      <td>AMD</td>\n",
       "      <td>NVDA</td>\n",
       "      <td>The spread for AMD-NVDA on 2019-05-31 is 1.456...</td>\n",
       "    </tr>\n",
       "    <tr>\n",
       "      <th>4</th>\n",
       "      <td>2019-06-30</td>\n",
       "      <td>AMD-NVDA</td>\n",
       "      <td>0.568122</td>\n",
       "      <td>-0.104398</td>\n",
       "      <td>AMD</td>\n",
       "      <td>NVDA</td>\n",
       "      <td>The spread for AMD-NVDA on 2019-06-30 is 0.568...</td>\n",
       "    </tr>\n",
       "  </tbody>\n",
       "</table>\n",
       "</div>"
      ],
      "text/plain": [
       "        Date Ticker_Pair    Spread    Return tick1 tick2  \\\n",
       "0 2019-02-28    AMD-NVDA -1.319545       NaN   AMD  NVDA   \n",
       "1 2019-03-31    AMD-NVDA -2.016619 -0.079436   AMD  NVDA   \n",
       "2 2019-04-30    AMD-NVDA -1.311970  0.074660   AMD  NVDA   \n",
       "3 2019-05-31    AMD-NVDA  1.456129  0.242786   AMD  NVDA   \n",
       "4 2019-06-30    AMD-NVDA  0.568122 -0.104398   AMD  NVDA   \n",
       "\n",
       "                                               texts  \n",
       "0  The spread for AMD-NVDA on 2019-02-28 is -1.31...  \n",
       "1  The spread for AMD-NVDA on 2019-03-31 is -2.01...  \n",
       "2  The spread for AMD-NVDA on 2019-04-30 is -1.31...  \n",
       "3  The spread for AMD-NVDA on 2019-05-31 is 1.456...  \n",
       "4  The spread for AMD-NVDA on 2019-06-30 is 0.568...  "
      ]
     },
     "execution_count": 34,
     "metadata": {},
     "output_type": "execute_result"
    }
   ],
   "source": [
    "import pandas as pd\n",
    "\n",
    "# load financial data -- Note we have the following columns: Date, Ticker Pair, BERT Spread, BERT Position\n",
    "data = pd.read_csv('outputs/spreads.csv')\n",
    "data['Date'] = pd.to_datetime(data['Date'])\n",
    "data.rename(columns={\"Ticker Pair\": \"Ticker_Pair\"}, inplace=True)\n",
    "data[[\"tick1\", \"tick2\"]] = data[\"Ticker_Pair\"].str.split(\"-\", expand=True)\n",
    "# making binary labels for the position, 'Buy' if spread is negatvie, 'Sell' if spread is positive\n",
    "# data['BERT Position'] = data['Spread'].apply(lambda x: 'Buy' if x < 0 else 'Sell')\n",
    "# create text description for BERT to process\n",
    "data['texts'] = [f\"The spread for {row['Ticker_Pair']} on {row['Date'].strftime('%Y-%m-%d')} is {row['Spread']}\" for index, row in data.iterrows()]\n",
    "\n",
    "\n",
    "data.head()"
   ]
  },
  {
   "cell_type": "code",
   "execution_count": null,
   "id": "3ac92e70-da5b-4c20-bf7d-0fdbb64c8d39",
   "metadata": {},
   "outputs": [
    {
     "name": "stdout",
     "output_type": "stream",
     "text": [
      "Data Loaded: 45 rows\n",
      "Spread distribution -1.1546319456101628e-14, 45.000000000000014\n"
     ]
    },
    {
     "ename": "ValueError",
     "evalue": "The least populated class in y has only 1 member, which is too few. The minimum number of groups for any class cannot be less than 2.",
     "output_type": "error",
     "traceback": [
      "\u001b[1;31m---------------------------------------------------------------------------\u001b[0m",
      "\u001b[1;31mValueError\u001b[0m                                Traceback (most recent call last)",
      "Cell \u001b[1;32mIn[33], line 17\u001b[0m\n\u001b[0;32m     13\u001b[0m \u001b[38;5;28mprint\u001b[39m(\u001b[38;5;124mf\u001b[39m\u001b[38;5;124m'\u001b[39m\u001b[38;5;124mSpread distribution \u001b[39m\u001b[38;5;132;01m{\u001b[39;00m\u001b[38;5;28msum\u001b[39m(spread)\u001b[38;5;132;01m}\u001b[39;00m\u001b[38;5;124m, \u001b[39m\u001b[38;5;132;01m{\u001b[39;00m\u001b[38;5;28mlen\u001b[39m(spread)\u001b[38;5;250m \u001b[39m\u001b[38;5;241m-\u001b[39m\u001b[38;5;250m \u001b[39m\u001b[38;5;28msum\u001b[39m(spread)\u001b[38;5;132;01m}\u001b[39;00m\u001b[38;5;124m'\u001b[39m)\n\u001b[0;32m     16\u001b[0m \u001b[38;5;66;03m# splitting the data into train and test splits\u001b[39;00m\n\u001b[1;32m---> 17\u001b[0m train_texts, test_texts, train_spreads, test_spreads \u001b[38;5;241m=\u001b[39m \u001b[43mtrain_test_split\u001b[49m\u001b[43m(\u001b[49m\n\u001b[0;32m     18\u001b[0m \u001b[43m    \u001b[49m\u001b[43mtexts\u001b[49m\u001b[43m,\u001b[49m\u001b[43m \u001b[49m\u001b[43mspread\u001b[49m\u001b[43m,\u001b[49m\u001b[43m \u001b[49m\u001b[43mtest_size\u001b[49m\u001b[38;5;241;43m=\u001b[39;49m\u001b[38;5;241;43m0.2\u001b[39;49m\u001b[43m,\u001b[49m\u001b[43m \u001b[49m\u001b[43mrandom_state\u001b[49m\u001b[38;5;241;43m=\u001b[39;49m\u001b[38;5;241;43m42\u001b[39;49m\u001b[43m,\u001b[49m\u001b[43m \u001b[49m\u001b[43mstratify\u001b[49m\u001b[38;5;241;43m=\u001b[39;49m\u001b[43mspread\u001b[49m\u001b[43m)\u001b[49m\n\u001b[0;32m     19\u001b[0m \u001b[38;5;28mprint\u001b[39m(\u001b[38;5;124mf\u001b[39m\u001b[38;5;124m'\u001b[39m\u001b[38;5;124mTrain Size: \u001b[39m\u001b[38;5;132;01m{\u001b[39;00m\u001b[38;5;28mlen\u001b[39m(train_texts)\u001b[38;5;132;01m}\u001b[39;00m\u001b[38;5;124m, Test Size: \u001b[39m\u001b[38;5;132;01m{\u001b[39;00m\u001b[38;5;28mlen\u001b[39m(test_texts)\u001b[38;5;132;01m}\u001b[39;00m\u001b[38;5;124m'\u001b[39m)\n\u001b[0;32m     22\u001b[0m \u001b[38;5;66;03m# tokenize and encode the data\u001b[39;00m\n",
      "File \u001b[1;32mc:\\New folder\\Lib\\site-packages\\sklearn\\utils\\_param_validation.py:213\u001b[0m, in \u001b[0;36mvalidate_params.<locals>.decorator.<locals>.wrapper\u001b[1;34m(*args, **kwargs)\u001b[0m\n\u001b[0;32m    207\u001b[0m \u001b[38;5;28;01mtry\u001b[39;00m:\n\u001b[0;32m    208\u001b[0m     \u001b[38;5;28;01mwith\u001b[39;00m config_context(\n\u001b[0;32m    209\u001b[0m         skip_parameter_validation\u001b[38;5;241m=\u001b[39m(\n\u001b[0;32m    210\u001b[0m             prefer_skip_nested_validation \u001b[38;5;129;01mor\u001b[39;00m global_skip_validation\n\u001b[0;32m    211\u001b[0m         )\n\u001b[0;32m    212\u001b[0m     ):\n\u001b[1;32m--> 213\u001b[0m         \u001b[38;5;28;01mreturn\u001b[39;00m \u001b[43mfunc\u001b[49m\u001b[43m(\u001b[49m\u001b[38;5;241;43m*\u001b[39;49m\u001b[43margs\u001b[49m\u001b[43m,\u001b[49m\u001b[43m \u001b[49m\u001b[38;5;241;43m*\u001b[39;49m\u001b[38;5;241;43m*\u001b[39;49m\u001b[43mkwargs\u001b[49m\u001b[43m)\u001b[49m\n\u001b[0;32m    214\u001b[0m \u001b[38;5;28;01mexcept\u001b[39;00m InvalidParameterError \u001b[38;5;28;01mas\u001b[39;00m e:\n\u001b[0;32m    215\u001b[0m     \u001b[38;5;66;03m# When the function is just a wrapper around an estimator, we allow\u001b[39;00m\n\u001b[0;32m    216\u001b[0m     \u001b[38;5;66;03m# the function to delegate validation to the estimator, but we replace\u001b[39;00m\n\u001b[0;32m    217\u001b[0m     \u001b[38;5;66;03m# the name of the estimator by the name of the function in the error\u001b[39;00m\n\u001b[0;32m    218\u001b[0m     \u001b[38;5;66;03m# message to avoid confusion.\u001b[39;00m\n\u001b[0;32m    219\u001b[0m     msg \u001b[38;5;241m=\u001b[39m re\u001b[38;5;241m.\u001b[39msub(\n\u001b[0;32m    220\u001b[0m         \u001b[38;5;124mr\u001b[39m\u001b[38;5;124m\"\u001b[39m\u001b[38;5;124mparameter of \u001b[39m\u001b[38;5;124m\\\u001b[39m\u001b[38;5;124mw+ must be\u001b[39m\u001b[38;5;124m\"\u001b[39m,\n\u001b[0;32m    221\u001b[0m         \u001b[38;5;124mf\u001b[39m\u001b[38;5;124m\"\u001b[39m\u001b[38;5;124mparameter of \u001b[39m\u001b[38;5;132;01m{\u001b[39;00mfunc\u001b[38;5;241m.\u001b[39m\u001b[38;5;18m__qualname__\u001b[39m\u001b[38;5;132;01m}\u001b[39;00m\u001b[38;5;124m must be\u001b[39m\u001b[38;5;124m\"\u001b[39m,\n\u001b[0;32m    222\u001b[0m         \u001b[38;5;28mstr\u001b[39m(e),\n\u001b[0;32m    223\u001b[0m     )\n",
      "File \u001b[1;32mc:\\New folder\\Lib\\site-packages\\sklearn\\model_selection\\_split.py:2801\u001b[0m, in \u001b[0;36mtrain_test_split\u001b[1;34m(test_size, train_size, random_state, shuffle, stratify, *arrays)\u001b[0m\n\u001b[0;32m   2797\u001b[0m         CVClass \u001b[38;5;241m=\u001b[39m ShuffleSplit\n\u001b[0;32m   2799\u001b[0m     cv \u001b[38;5;241m=\u001b[39m CVClass(test_size\u001b[38;5;241m=\u001b[39mn_test, train_size\u001b[38;5;241m=\u001b[39mn_train, random_state\u001b[38;5;241m=\u001b[39mrandom_state)\n\u001b[1;32m-> 2801\u001b[0m     train, test \u001b[38;5;241m=\u001b[39m \u001b[38;5;28;43mnext\u001b[39;49m\u001b[43m(\u001b[49m\u001b[43mcv\u001b[49m\u001b[38;5;241;43m.\u001b[39;49m\u001b[43msplit\u001b[49m\u001b[43m(\u001b[49m\u001b[43mX\u001b[49m\u001b[38;5;241;43m=\u001b[39;49m\u001b[43marrays\u001b[49m\u001b[43m[\u001b[49m\u001b[38;5;241;43m0\u001b[39;49m\u001b[43m]\u001b[49m\u001b[43m,\u001b[49m\u001b[43m \u001b[49m\u001b[43my\u001b[49m\u001b[38;5;241;43m=\u001b[39;49m\u001b[43mstratify\u001b[49m\u001b[43m)\u001b[49m\u001b[43m)\u001b[49m\n\u001b[0;32m   2803\u001b[0m train, test \u001b[38;5;241m=\u001b[39m ensure_common_namespace_device(arrays[\u001b[38;5;241m0\u001b[39m], train, test)\n\u001b[0;32m   2805\u001b[0m \u001b[38;5;28;01mreturn\u001b[39;00m \u001b[38;5;28mlist\u001b[39m(\n\u001b[0;32m   2806\u001b[0m     chain\u001b[38;5;241m.\u001b[39mfrom_iterable(\n\u001b[0;32m   2807\u001b[0m         (_safe_indexing(a, train), _safe_indexing(a, test)) \u001b[38;5;28;01mfor\u001b[39;00m a \u001b[38;5;129;01min\u001b[39;00m arrays\n\u001b[0;32m   2808\u001b[0m     )\n\u001b[0;32m   2809\u001b[0m )\n",
      "File \u001b[1;32mc:\\New folder\\Lib\\site-packages\\sklearn\\model_selection\\_split.py:1843\u001b[0m, in \u001b[0;36mBaseShuffleSplit.split\u001b[1;34m(self, X, y, groups)\u001b[0m\n\u001b[0;32m   1813\u001b[0m \u001b[38;5;250m\u001b[39m\u001b[38;5;124;03m\"\"\"Generate indices to split data into training and test set.\u001b[39;00m\n\u001b[0;32m   1814\u001b[0m \n\u001b[0;32m   1815\u001b[0m \u001b[38;5;124;03mParameters\u001b[39;00m\n\u001b[1;32m   (...)\u001b[0m\n\u001b[0;32m   1840\u001b[0m \u001b[38;5;124;03mto an integer.\u001b[39;00m\n\u001b[0;32m   1841\u001b[0m \u001b[38;5;124;03m\"\"\"\u001b[39;00m\n\u001b[0;32m   1842\u001b[0m X, y, groups \u001b[38;5;241m=\u001b[39m indexable(X, y, groups)\n\u001b[1;32m-> 1843\u001b[0m \u001b[43m\u001b[49m\u001b[38;5;28;43;01mfor\u001b[39;49;00m\u001b[43m \u001b[49m\u001b[43mtrain\u001b[49m\u001b[43m,\u001b[49m\u001b[43m \u001b[49m\u001b[43mtest\u001b[49m\u001b[43m \u001b[49m\u001b[38;5;129;43;01min\u001b[39;49;00m\u001b[43m \u001b[49m\u001b[38;5;28;43mself\u001b[39;49m\u001b[38;5;241;43m.\u001b[39;49m\u001b[43m_iter_indices\u001b[49m\u001b[43m(\u001b[49m\u001b[43mX\u001b[49m\u001b[43m,\u001b[49m\u001b[43m \u001b[49m\u001b[43my\u001b[49m\u001b[43m,\u001b[49m\u001b[43m \u001b[49m\u001b[43mgroups\u001b[49m\u001b[43m)\u001b[49m\u001b[43m:\u001b[49m\n\u001b[0;32m   1844\u001b[0m \u001b[43m    \u001b[49m\u001b[38;5;28;43;01myield\u001b[39;49;00m\u001b[43m \u001b[49m\u001b[43mtrain\u001b[49m\u001b[43m,\u001b[49m\u001b[43m \u001b[49m\u001b[43mtest\u001b[49m\n",
      "File \u001b[1;32mc:\\New folder\\Lib\\site-packages\\sklearn\\model_selection\\_split.py:2247\u001b[0m, in \u001b[0;36mStratifiedShuffleSplit._iter_indices\u001b[1;34m(self, X, y, groups)\u001b[0m\n\u001b[0;32m   2245\u001b[0m class_counts \u001b[38;5;241m=\u001b[39m np\u001b[38;5;241m.\u001b[39mbincount(y_indices)\n\u001b[0;32m   2246\u001b[0m \u001b[38;5;28;01mif\u001b[39;00m np\u001b[38;5;241m.\u001b[39mmin(class_counts) \u001b[38;5;241m<\u001b[39m \u001b[38;5;241m2\u001b[39m:\n\u001b[1;32m-> 2247\u001b[0m     \u001b[38;5;28;01mraise\u001b[39;00m \u001b[38;5;167;01mValueError\u001b[39;00m(\n\u001b[0;32m   2248\u001b[0m         \u001b[38;5;124m\"\u001b[39m\u001b[38;5;124mThe least populated class in y has only 1\u001b[39m\u001b[38;5;124m\"\u001b[39m\n\u001b[0;32m   2249\u001b[0m         \u001b[38;5;124m\"\u001b[39m\u001b[38;5;124m member, which is too few. The minimum\u001b[39m\u001b[38;5;124m\"\u001b[39m\n\u001b[0;32m   2250\u001b[0m         \u001b[38;5;124m\"\u001b[39m\u001b[38;5;124m number of groups for any class cannot\u001b[39m\u001b[38;5;124m\"\u001b[39m\n\u001b[0;32m   2251\u001b[0m         \u001b[38;5;124m\"\u001b[39m\u001b[38;5;124m be less than 2.\u001b[39m\u001b[38;5;124m\"\u001b[39m\n\u001b[0;32m   2252\u001b[0m     )\n\u001b[0;32m   2254\u001b[0m \u001b[38;5;28;01mif\u001b[39;00m n_train \u001b[38;5;241m<\u001b[39m n_classes:\n\u001b[0;32m   2255\u001b[0m     \u001b[38;5;28;01mraise\u001b[39;00m \u001b[38;5;167;01mValueError\u001b[39;00m(\n\u001b[0;32m   2256\u001b[0m         \u001b[38;5;124m\"\u001b[39m\u001b[38;5;124mThe train_size = \u001b[39m\u001b[38;5;132;01m%d\u001b[39;00m\u001b[38;5;124m should be greater or \u001b[39m\u001b[38;5;124m\"\u001b[39m\n\u001b[0;32m   2257\u001b[0m         \u001b[38;5;124m\"\u001b[39m\u001b[38;5;124mequal to the number of classes = \u001b[39m\u001b[38;5;132;01m%d\u001b[39;00m\u001b[38;5;124m\"\u001b[39m \u001b[38;5;241m%\u001b[39m (n_train, n_classes)\n\u001b[0;32m   2258\u001b[0m     )\n",
      "\u001b[1;31mValueError\u001b[0m: The least populated class in y has only 1 member, which is too few. The minimum number of groups for any class cannot be less than 2."
     ]
    }
   ],
   "source": [
    "# import the bert tokenizer\n",
    "from transformers import BertTokenizer, BertForSequenceClassification\n",
    "import torch\n",
    "from torch.utils.data import DataLoader, Dataset, TensorDataset\n",
    "from sklearn.model_selection import train_test_split\n",
    "from sklearn.metrics import mean_squared_error, r2_score, f1_score\n",
    "import numpy as np\n",
    "\n",
    "\n",
    "texts = data['texts'].values\n",
    "spread = data['Spread'].values\n",
    "print(f'Data Loaded: {len(data)} rows')\n",
    "print(f'Spread distribution {sum(spread)}, {len(spread) - sum(spread)}')\n",
    "\n",
    "\n",
    "# splitting the data into train and test splits\n",
    "train_texts, test_texts, train_spreads, test_spreads = train_test_split(\n",
    "    texts, spread, test_size=0.2, random_state=42, stratify=spread)\n",
    "print(f'Train Size: {len(train_texts)}, Test Size: {len(test_texts)}')\n",
    "\n",
    "\n",
    "# tokenize and encode the data using a pre-trained BERT tokenizer\n",
    "tokenizer = BertTokenizer.from_pretrained('bert-base-uncased')\n",
    "\n",
    "# tokenize training data\n",
    "train_encodings = tokenizer(\n",
    "    list(train_texts), padding=True, truncation=True, return_tensors='pt', max_length=128\n",
    ")\n",
    "\n",
    "# tokenize test data\n",
    "test_encodings = tokenizer(\n",
    "    list(test_texts), padding=True, truncation=True, return_tensors='pt', max_length=128\n",
    ")\n",
    "\n",
    "# create a custom dataset\n",
    "train_dataset = TensorDataset(train_encodings['input_ids'], train_encodings['attention_mask'], torch.tensor(train_spreads))\n",
    "test_dataset = TensorDataset(test_encodings['input_ids'], test_encodings['attention_mask'], torch.tensor(test_spreads))\n",
    "\n",
    "# create data loaders\n",
    "batch_size = 16\n",
    "train_loader = DataLoader(train_dataset, batch_size=batch_size, shuffle=True)\n",
    "test_loader = DataLoader(test_dataset, batch_size=batch_size, shuffle=False)\n",
    "\n",
    "\n",
    "\n",
    "# loading the BERT model\n",
    "model = BertForSequenceClassification.from_pretrained('bert-base-uncased', num_spreads=2)\n",
    "device = torch.device('cuda' if torch.cuda.is_available() else 'cpu')\n",
    "model.to(device)\n",
    "\n",
    "# fine tune the model\n",
    "optimizer = torch.optim.AdamW(model.parameters(), lr=1e-5) # learning rate\n",
    "\n",
    "# epochs means one complete pass through the entire training dataset. \n",
    "# epoch 1: the model sees all training data once and makes initial adjustments\n",
    "# epoch 2: the model sees the data again, learns from its previous mistakes, and makes further adjustments\n",
    "# epoch 3: the model sees the data a third time, refines its understanding, and makes final adjustments\n",
    "# In this case, we will use 3 epochs for training.\n",
    "num_epochs = 3 \n",
    "\n",
    "model.train()\n",
    "for epoch in range(num_epochs): # number of epochs\n",
    "    total_loss = 0\n",
    "    for batch in train_loader:\n",
    "        input_ids, attention_mask, batch_spreads = [b.to(device) for b in batch] # move to GPU if available\n",
    "        optimizer.zero_grad() # clear previous gradients\n",
    "        # forward pass\n",
    "        outputs = model(input_ids, attention_mask=attention_mask, spread=batch_spreads)\n",
    "        loss = outputs.loss\n",
    "        # backward pass\n",
    "        loss.backward()\n",
    "        optimizer.step()\n",
    "\n",
    "    # print epoch loss\n",
    "    print(f\"Epoch {epoch + 1}/{num_epochs}, Average Loss: {total_loss / len(train_loader):.4f}\")\n",
    "\n",
    "\n",
    "model.eval()\n",
    "all_preds = [] \n",
    "all_spreads = [] \n",
    "\n",
    "\n",
    "# Generate Predictions\n",
    "with torch.no_grad():\n",
    "    for batch in test_loader:\n",
    "        input_ids, attention_mask, batch_spreads = [b.to(device) for b in batch] # move to GPU if available\n",
    "        outputs = model(input_ids, attention_mask=attention_mask)\n",
    "        predictions = torch.argmax(outputs.logits, dim=1) # get the predicted spreads\n",
    "        \n",
    "        # found that converting to numpy array works better for metrics\n",
    "        all_preds.extend(predictions.cpu().numpy()) \n",
    "        all_spreads.extend(batch_spreads.cpu().numpy())\n",
    "\n",
    "# Convert lists numpy arrays for metrics\n",
    "all_preds = np.array(all_preds)\n",
    "all_spreads = np.array(all_spreads)\n",
    "\n",
    "# Calculate metrics \n",
    "mse = mean_squared_error(all_spreads, all_preds)\n",
    "f1 = f1_score(all_spreads, all_preds, average='weighted')\n",
    "r2 = r2_score(all_spreads, all_preds)\n",
    "\n",
    "# evaluate performance\n",
    "mse = mean_squared_error(all_spreads, all_preds)\n",
    "f1 = f1_score(all_spreads, all_preds, average='weighted')\n",
    "r2 = r2_score(all_spreads, all_preds)\n",
    "print(f\"Mean Squared Error: {mse}\")\n",
    "print(f\"F1 Score: {f1}\")\n",
    "print(f\"R^2 Score: {r2}\")\n",
    "\n"
   ]
  },
  {
   "cell_type": "code",
   "execution_count": null,
   "id": "3f3f0e21",
   "metadata": {},
   "outputs": [
    {
     "name": "stdout",
     "output_type": "stream",
     "text": [
      "Predictions vs Actual\n",
      "===================================\n",
      "Predictions: [0 0 0 0 0 0 0 0 0]\n",
      "Labels:      [0 0 0 0 1 1 1 1 0]\n",
      "===================================\n"
     ]
    }
   ],
   "source": [
    "# I want to compare the predictions with the actual data\n",
    "print(\"Predictions vs Actual\")\n",
    "print(\"===================================\")\n",
    "print(f\"Predictions: {all_preds[:10]}\")\n",
    "print(f\"Labels:      {all_spreads[:10]}\")\n",
    "print(\"===================================\")"
   ]
  }
 ],
 "metadata": {
  "kernelspec": {
   "display_name": "Python 3",
   "language": "python",
   "name": "python3"
  },
  "language_info": {
   "codemirror_mode": {
    "name": "ipython",
    "version": 3
   },
   "file_extension": ".py",
   "mimetype": "text/x-python",
   "name": "python",
   "nbconvert_exporter": "python",
   "pygments_lexer": "ipython3",
   "version": "3.12.2"
  }
 },
 "nbformat": 4,
 "nbformat_minor": 5
}
