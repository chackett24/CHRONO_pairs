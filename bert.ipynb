{
 "cells": [
  {
   "cell_type": "markdown",
   "id": "d55b7c50",
   "metadata": {},
   "source": [
    "## In this file, we try to predict spread\n",
    "We are using BERT model to predict the spread of the assets with the following steps:\n",
    "- Using spreads.csv -- has columns: 'Date', 'Ticker Pair', 'Spread', and 'Return'\n",
    "- Making a texts column takin  \n",
    "\n",
    "Desired output format: 'Date', 'Ticker Pair', 'Spread', 'Return'\n"
   ]
  },
  {
   "cell_type": "code",
   "execution_count": 1,
   "id": "976e849b",
   "metadata": {},
   "outputs": [],
   "source": [
    "#%pip install transformers torch"
   ]
  },
  {
   "cell_type": "code",
   "execution_count": 2,
   "id": "ec691c84",
   "metadata": {},
   "outputs": [
    {
     "data": {
      "application/vnd.microsoft.datawrangler.viewer.v0+json": {
       "columns": [
        {
         "name": "index",
         "rawType": "int64",
         "type": "integer"
        },
        {
         "name": "Date",
         "rawType": "datetime64[ns]",
         "type": "datetime"
        },
        {
         "name": "Ticker_Pair",
         "rawType": "object",
         "type": "string"
        },
        {
         "name": "Spread",
         "rawType": "float64",
         "type": "float"
        },
        {
         "name": "Return",
         "rawType": "float64",
         "type": "float"
        },
        {
         "name": "tick1",
         "rawType": "object",
         "type": "string"
        },
        {
         "name": "tick2",
         "rawType": "object",
         "type": "string"
        },
        {
         "name": "texts",
         "rawType": "object",
         "type": "string"
        }
       ],
       "conversionMethod": "pd.DataFrame",
       "ref": "a1129bee-a807-4baa-ba9a-b47b0955ee75",
       "rows": [
        [
         "0",
         "2019-02-28 00:00:00",
         "AMD-NVDA",
         "-1.319545758792775",
         null,
         "AMD",
         "NVDA",
         "The spread for AMD-NVDA on 2019-02-28 is -1.319545758792775"
        ],
        [
         "1",
         "2019-03-31 00:00:00",
         "AMD-NVDA",
         "-2.016620468400507",
         "-0.0794357734820718",
         "AMD",
         "NVDA",
         "The spread for AMD-NVDA on 2019-03-31 is -2.016620468400507"
        ],
        [
         "2",
         "2019-04-30 00:00:00",
         "AMD-NVDA",
         "-1.311964874826298",
         "0.0746608187917154",
         "AMD",
         "NVDA",
         "The spread for AMD-NVDA on 2019-04-30 is -1.311964874826298"
        ],
        [
         "3",
         "2019-05-31 00:00:00",
         "AMD-NVDA",
         "1.4561297577698311",
         "0.2427854574043705",
         "AMD",
         "NVDA",
         "The spread for AMD-NVDA on 2019-05-31 is 1.4561297577698311"
        ],
        [
         "4",
         "2019-06-30 00:00:00",
         "AMD-NVDA",
         "0.5681237075422904",
         "-0.104397509413594",
         "AMD",
         "NVDA",
         "The spread for AMD-NVDA on 2019-06-30 is 0.5681237075422904"
        ]
       ],
       "shape": {
        "columns": 7,
        "rows": 5
       }
      },
      "text/html": [
       "<div>\n",
       "<style scoped>\n",
       "    .dataframe tbody tr th:only-of-type {\n",
       "        vertical-align: middle;\n",
       "    }\n",
       "\n",
       "    .dataframe tbody tr th {\n",
       "        vertical-align: top;\n",
       "    }\n",
       "\n",
       "    .dataframe thead th {\n",
       "        text-align: right;\n",
       "    }\n",
       "</style>\n",
       "<table border=\"1\" class=\"dataframe\">\n",
       "  <thead>\n",
       "    <tr style=\"text-align: right;\">\n",
       "      <th></th>\n",
       "      <th>Date</th>\n",
       "      <th>Ticker_Pair</th>\n",
       "      <th>Spread</th>\n",
       "      <th>Return</th>\n",
       "      <th>tick1</th>\n",
       "      <th>tick2</th>\n",
       "      <th>texts</th>\n",
       "    </tr>\n",
       "  </thead>\n",
       "  <tbody>\n",
       "    <tr>\n",
       "      <th>0</th>\n",
       "      <td>2019-02-28</td>\n",
       "      <td>AMD-NVDA</td>\n",
       "      <td>-1.319546</td>\n",
       "      <td>NaN</td>\n",
       "      <td>AMD</td>\n",
       "      <td>NVDA</td>\n",
       "      <td>The spread for AMD-NVDA on 2019-02-28 is -1.31...</td>\n",
       "    </tr>\n",
       "    <tr>\n",
       "      <th>1</th>\n",
       "      <td>2019-03-31</td>\n",
       "      <td>AMD-NVDA</td>\n",
       "      <td>-2.016620</td>\n",
       "      <td>-0.079436</td>\n",
       "      <td>AMD</td>\n",
       "      <td>NVDA</td>\n",
       "      <td>The spread for AMD-NVDA on 2019-03-31 is -2.01...</td>\n",
       "    </tr>\n",
       "    <tr>\n",
       "      <th>2</th>\n",
       "      <td>2019-04-30</td>\n",
       "      <td>AMD-NVDA</td>\n",
       "      <td>-1.311965</td>\n",
       "      <td>0.074661</td>\n",
       "      <td>AMD</td>\n",
       "      <td>NVDA</td>\n",
       "      <td>The spread for AMD-NVDA on 2019-04-30 is -1.31...</td>\n",
       "    </tr>\n",
       "    <tr>\n",
       "      <th>3</th>\n",
       "      <td>2019-05-31</td>\n",
       "      <td>AMD-NVDA</td>\n",
       "      <td>1.456130</td>\n",
       "      <td>0.242785</td>\n",
       "      <td>AMD</td>\n",
       "      <td>NVDA</td>\n",
       "      <td>The spread for AMD-NVDA on 2019-05-31 is 1.456...</td>\n",
       "    </tr>\n",
       "    <tr>\n",
       "      <th>4</th>\n",
       "      <td>2019-06-30</td>\n",
       "      <td>AMD-NVDA</td>\n",
       "      <td>0.568124</td>\n",
       "      <td>-0.104398</td>\n",
       "      <td>AMD</td>\n",
       "      <td>NVDA</td>\n",
       "      <td>The spread for AMD-NVDA on 2019-06-30 is 0.568...</td>\n",
       "    </tr>\n",
       "  </tbody>\n",
       "</table>\n",
       "</div>"
      ],
      "text/plain": [
       "        Date Ticker_Pair    Spread    Return tick1 tick2  \\\n",
       "0 2019-02-28    AMD-NVDA -1.319546       NaN   AMD  NVDA   \n",
       "1 2019-03-31    AMD-NVDA -2.016620 -0.079436   AMD  NVDA   \n",
       "2 2019-04-30    AMD-NVDA -1.311965  0.074661   AMD  NVDA   \n",
       "3 2019-05-31    AMD-NVDA  1.456130  0.242785   AMD  NVDA   \n",
       "4 2019-06-30    AMD-NVDA  0.568124 -0.104398   AMD  NVDA   \n",
       "\n",
       "                                               texts  \n",
       "0  The spread for AMD-NVDA on 2019-02-28 is -1.31...  \n",
       "1  The spread for AMD-NVDA on 2019-03-31 is -2.01...  \n",
       "2  The spread for AMD-NVDA on 2019-04-30 is -1.31...  \n",
       "3  The spread for AMD-NVDA on 2019-05-31 is 1.456...  \n",
       "4  The spread for AMD-NVDA on 2019-06-30 is 0.568...  "
      ]
     },
     "execution_count": 2,
     "metadata": {},
     "output_type": "execute_result"
    }
   ],
   "source": [
    "import pandas as pd\n",
    "\n",
    "# load financial data -- Note we have the following columns: Date, Ticker Pair, BERT Spread, BERT Position\n",
    "data = pd.read_csv('outputs/spreads.csv')\n",
    "data['Date'] = pd.to_datetime(data['Date'])\n",
    "data.rename(columns={\"Ticker Pair\": \"Ticker_Pair\"}, inplace=True)\n",
    "data[[\"tick1\", \"tick2\"]] = data[\"Ticker_Pair\"].str.split(\"-\", expand=True)\n",
    "# making binary labels for the position, 'Buy' if spread is negatvie, 'Sell' if spread is positive\n",
    "# data['BERT Position'] = data['Spread'].apply(lambda x: 'Buy' if x < 0 else 'Sell')\n",
    "# create text description for BERT to process\n",
    "data['texts'] = [f\"The spread for {row['Ticker_Pair']} on {row['Date'].strftime('%Y-%m-%d')} is {row['Spread']}\" for index, row in data.iterrows()]\n",
    "\n",
    "\n",
    "data.head()"
   ]
  },
  {
   "cell_type": "code",
   "execution_count": 7,
   "id": "3ac92e70-da5b-4c20-bf7d-0fdbb64c8d39",
   "metadata": {},
   "outputs": [
    {
     "name": "stdout",
     "output_type": "stream",
     "text": [
      "Data Loaded: 45 rows\n",
      "Spread distribution -3.952393967665557e-14, 45.00000000000004\n",
      "Train Size: 36, Test Size: 9\n"
     ]
    },
    {
     "name": "stderr",
     "output_type": "stream",
     "text": [
      "Some weights of BertForSequenceClassification were not initialized from the model checkpoint at bert-base-uncased and are newly initialized: ['classifier.bias', 'classifier.weight']\n",
      "You should probably TRAIN this model on a down-stream task to be able to use it for predictions and inference.\n"
     ]
    },
    {
     "name": "stdout",
     "output_type": "stream",
     "text": [
      "Epoch 1/3, Average Loss: 0.7159\n",
      "Epoch 2/3, Average Loss: 0.6995\n",
      "Epoch 3/3, Average Loss: 0.6080\n",
      "Evaluation Loss: 0.4986\n",
      "Mean Squared Error: 0.0\n",
      "F1 Score: 1.0\n",
      "R^2 Score: 1.0\n"
     ]
    }
   ],
   "source": [
    "# import the bert tokenizer\n",
    "from transformers import BertTokenizer, BertForSequenceClassification\n",
    "import torch\n",
    "from torch.utils.data import DataLoader, Dataset, TensorDataset\n",
    "from sklearn.model_selection import train_test_split\n",
    "from sklearn.metrics import mean_squared_error, r2_score, f1_score\n",
    "import numpy as np\n",
    "\n",
    "\n",
    "texts = data['texts'].values\n",
    "spread = data['Spread'].values\n",
    "print(f'Data Loaded: {len(data)} rows')\n",
    "print(f'Spread distribution {sum(spread)}, {len(spread) - sum(spread)}')\n",
    "\n",
    "\n",
    "# # splitting the data into train and test splits\n",
    "# train_texts, test_texts, train_spreads, test_spreads = train_test_split(\n",
    "#     texts, spread, test_size=0.2, random_state=42)\n",
    "\n",
    "# alternative: bin the spread values\n",
    "from sklearn.preprocessing import KBinsDiscretizer\n",
    "\n",
    "discretizer = KBinsDiscretizer(n_bins=2, encode='ordinal', strategy='quantile')\n",
    "spread_binned = discretizer.fit_transform(spread.reshape(-1, 1)).flatten()\n",
    "train_texts, test_texts, train_spreads, test_spreads = train_test_split(\n",
    "    texts, spread_binned, test_size=0.2, random_state=42, stratify=spread_binned)\n",
    "\n",
    "print(f'Train Size: {len(train_texts)}, Test Size: {len(test_texts)}')\n",
    "\n",
    "\n",
    "# tokenize and encode the data using a pre-trained BERT tokenizer\n",
    "tokenizer = BertTokenizer.from_pretrained('bert-base-uncased')\n",
    "\n",
    "# tokenize training data\n",
    "train_encodings = tokenizer(\n",
    "    list(train_texts), padding=True, truncation=True, return_tensors='pt', max_length=128\n",
    ")\n",
    "\n",
    "# tokenize test data\n",
    "test_encodings = tokenizer(\n",
    "    list(test_texts), padding=True, truncation=True, return_tensors='pt', max_length=128\n",
    ")\n",
    "\n",
    "# Convert spread_binned to long type for PyTorch (if not already)\n",
    "train_dataset = TensorDataset(train_encodings['input_ids'], \n",
    "                              train_encodings['attention_mask'], \n",
    "                              torch.tensor(train_spreads, dtype=torch.long))\n",
    "test_dataset = TensorDataset(test_encodings['input_ids'], \n",
    "                             test_encodings['attention_mask'], \n",
    "                             torch.tensor(test_spreads, dtype=torch.long))\n",
    "\n",
    "# create data loaders\n",
    "batch_size = 16\n",
    "train_loader = DataLoader(train_dataset, batch_size=batch_size, shuffle=True)\n",
    "test_loader = DataLoader(test_dataset, batch_size=batch_size, shuffle=False)\n",
    "\n",
    "\n",
    "\n",
    "# loading the BERT model\n",
    "model = BertForSequenceClassification.from_pretrained('bert-base-uncased', num_labels=2)\n",
    "device = torch.device('cuda' if torch.cuda.is_available() else 'cpu')\n",
    "model.to(device)\n",
    "\n",
    "# fine tune the model\n",
    "optimizer = torch.optim.AdamW(model.parameters(), lr=1e-5) # learning rate\n",
    "\n",
    "# epochs means one complete pass through the entire training dataset. \n",
    "# epoch 1: the model sees all training data once and makes initial adjustments\n",
    "# epoch 2: the model sees the data again, learns from its previous mistakes, and makes further adjustments\n",
    "# epoch 3: the model sees the data a third time, refines its understanding, and makes final adjustments\n",
    "# In this case, we will use 3 epochs for training.\n",
    "num_epochs = 3 \n",
    "\n",
    "model.train()\n",
    "for epoch in range(num_epochs):\n",
    "    total_loss = 0\n",
    "    for batch in train_loader:\n",
    "        input_ids, attention_mask, batch_spreads = [b.to(device) for b in batch]\n",
    "        optimizer.zero_grad()\n",
    "        \n",
    "        # Forward pass without labels\n",
    "        outputs = model(input_ids, attention_mask=attention_mask)\n",
    "        logits = outputs.logits\n",
    "        \n",
    "        # Calculate loss manually\n",
    "        loss_fn = torch.nn.CrossEntropyLoss()\n",
    "        loss = loss_fn(logits, batch_spreads)\n",
    "        \n",
    "        total_loss += loss.item()\n",
    "        loss.backward()\n",
    "        optimizer.step()\n",
    "\n",
    "    print(f\"Epoch {epoch + 1}/{num_epochs}, Average Loss: {total_loss / len(train_loader):.4f}\")\n",
    "\n",
    "# Similarly, update the evaluation section\n",
    "model.eval()\n",
    "all_preds = []\n",
    "all_spreads = []\n",
    "eval_loss = 0\n",
    "\n",
    "with torch.no_grad():\n",
    "    for batch in test_loader:\n",
    "        input_ids, attention_mask, batch_spreads = [b.to(device) for b in batch]\n",
    "        outputs = model(input_ids, attention_mask=attention_mask)\n",
    "        logits = outputs.logits\n",
    "        \n",
    "        # Calculate loss manually\n",
    "        loss_fn = torch.nn.CrossEntropyLoss()\n",
    "        loss = loss_fn(logits, batch_spreads)\n",
    "        eval_loss += loss.item()\n",
    "        \n",
    "        predictions = torch.argmax(logits, dim=1)\n",
    "        all_preds.extend(predictions.cpu().numpy())\n",
    "        all_spreads.extend(batch_spreads.cpu().numpy())\n",
    "\n",
    "print(f\"Evaluation Loss: {eval_loss / len(test_loader):.4f}\")\n",
    "\n",
    "# Convert lists numpy arrays for metrics\n",
    "all_preds = np.array(all_preds)\n",
    "all_spreads = np.array(all_spreads)\n",
    "\n",
    "# Calculate metrics \n",
    "mse = mean_squared_error(all_spreads, all_preds)\n",
    "f1 = f1_score(all_spreads, all_preds, average='weighted')\n",
    "r2 = r2_score(all_spreads, all_preds)\n",
    "\n",
    "# evaluate performance\n",
    "mse = mean_squared_error(all_spreads, all_preds)\n",
    "f1 = f1_score(all_spreads, all_preds, average='weighted')\n",
    "r2 = r2_score(all_spreads, all_preds)\n",
    "print(f\"Mean Squared Error: {mse}\")\n",
    "print(f\"F1 Score: {f1}\")\n",
    "print(f\"R^2 Score: {r2}\")\n",
    "\n"
   ]
  },
  {
   "cell_type": "code",
   "execution_count": 8,
   "id": "3f3f0e21",
   "metadata": {},
   "outputs": [
    {
     "name": "stdout",
     "output_type": "stream",
     "text": [
      "Predictions vs Actual\n",
      "===================================\n",
      "Predictions: [1 0 0 0 1 1 1 1 0]\n",
      "Labels:      [1 0 0 0 1 1 1 1 0]\n",
      "===================================\n"
     ]
    }
   ],
   "source": [
    "# I want to compare the predictions with the actual data\n",
    "print(\"Predictions vs Actual\")\n",
    "print(\"===================================\")\n",
    "print(f\"Predictions: {all_preds[:10]}\")\n",
    "print(f\"Labels:      {all_spreads[:10]}\")\n",
    "print(\"===================================\")"
   ]
  }
 ],
 "metadata": {
  "kernelspec": {
   "display_name": "Python 3",
   "language": "python",
   "name": "python3"
  },
  "language_info": {
   "codemirror_mode": {
    "name": "ipython",
    "version": 3
   },
   "file_extension": ".py",
   "mimetype": "text/x-python",
   "name": "python",
   "nbconvert_exporter": "python",
   "pygments_lexer": "ipython3",
   "version": "3.12.2"
  }
 },
 "nbformat": 4,
 "nbformat_minor": 5
}
