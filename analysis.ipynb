{
 "cells": [
  {
   "cell_type": "code",
   "execution_count": 1,
   "id": "28b8907d-13bb-4a5d-bb42-278addf9b07c",
   "metadata": {},
   "outputs": [
    {
     "name": "stdout",
     "output_type": "stream",
     "text": [
      "           Ticker Pair    Spread    Return  CHRONOBERT Spread  \\\n",
      "Date                                                            \n",
      "2019-02-28    AMD-NVDA -1.319545       NaN          -1.195366   \n",
      "2019-03-31    AMD-NVDA -2.016619 -0.079436          -2.051185   \n",
      "2019-04-30    AMD-NVDA -1.311970  0.074660          -1.150048   \n",
      "2019-05-31    AMD-NVDA  1.456129  0.242786           1.836887   \n",
      "2019-06-30    AMD-NVDA  0.568122 -0.104398           0.509584   \n",
      "2019-07-31    AMD-NVDA  0.328065 -0.024705           0.269530   \n",
      "2019-08-31    AMD-NVDA  0.707954  0.039029           1.102757   \n",
      "2019-09-30    AMD-NVDA -0.474115 -0.117381          -0.282256   \n",
      "2019-10-31    AMD-NVDA -0.341949  0.015581          -0.459318   \n",
      "2019-11-30    AMD-NVDA  0.319481  0.074849           0.455121   \n",
      "\n",
      "           CHRONOBERT Position  BERT Spread BERT Position  Traditional Spread  \\\n",
      "Date                                                                            \n",
      "2019-02-28                 Buy    -1.245820           Buy            0.304801   \n",
      "2019-03-31                 Buy    -1.004199           Buy           -2.628375   \n",
      "2019-04-30                 Buy    -1.525410           Buy           -1.840142   \n",
      "2019-05-31                Sell     2.611275          Sell            0.383161   \n",
      "2019-06-30                Sell     0.882452          Sell            1.433530   \n",
      "2019-07-31                Sell     0.300359          Sell           -1.973474   \n",
      "2019-08-31                Sell     0.048023          Sell            2.452766   \n",
      "2019-09-30                 Buy    -0.271579           Buy           -1.235322   \n",
      "2019-10-31                 Buy    -0.434702           Buy           -0.022910   \n",
      "2019-11-30                Sell     0.268645          Sell            0.070110   \n",
      "\n",
      "           Traditional Position  \n",
      "Date                             \n",
      "2019-02-28                 Sell  \n",
      "2019-03-31                  Buy  \n",
      "2019-04-30                  Buy  \n",
      "2019-05-31                 Sell  \n",
      "2019-06-30                 Sell  \n",
      "2019-07-31                  Buy  \n",
      "2019-08-31                 Sell  \n",
      "2019-09-30                  Buy  \n",
      "2019-10-31                  Buy  \n",
      "2019-11-30                 Sell  \n"
     ]
    }
   ],
   "source": [
    "import pandas as pd\n",
    "import numpy as np\n",
    "\n",
    "spread_df = pd.read_csv(\"outputs/spreads.csv\", parse_dates=[\"Date\"])\n",
    "spread_df.set_index(\"Date\", inplace=True)\n",
    "\n",
    "chrono_df = pd.read_csv(\"outputs/chrono_dummy.csv\", parse_dates=[\"Date\"])\n",
    "chrono_df.set_index(\"Date\", inplace=True)\n",
    "\n",
    "bert_df = pd.read_csv(\"outputs/bert_dummy.csv\", parse_dates=[\"Date\"])\n",
    "bert_df.set_index(\"Date\", inplace=True)\n",
    "\n",
    "traditional_df = pd.read_csv(\"outputs/traditional_dummy.csv\", parse_dates=[\"Date\"])\n",
    "traditional_df.set_index(\"Date\", inplace=True)\n",
    "\n",
    "\n",
    "spread_df = spread_df.merge(chrono_df, how=\"inner\", on=[\"Date\", \"Ticker Pair\"], validate='one_to_one')\n",
    "spread_df = spread_df.merge(bert_df, how=\"inner\", on=[\"Date\", \"Ticker Pair\"], validate='one_to_one')\n",
    "spread_df = spread_df.merge(traditional_df, how=\"inner\", on=[\"Date\", \"Ticker Pair\"], validate='one_to_one')\n",
    "\n",
    "print(spread_df.head(10))"
   ]
  },
  {
   "cell_type": "code",
   "execution_count": 2,
   "id": "17ed3725-c39c-40e8-8b73-85ae0e74c06b",
   "metadata": {},
   "outputs": [],
   "source": [
    "position_cols = ['CHRONOBERT Position', 'BERT Position', 'Traditional Position']\n",
    "\n",
    "for col in position_cols:\n",
    "    strat_return_col = f'{col.replace(\"Position\", \"Strategy Return\")}'\n",
    "\n",
    "    spread_df[strat_return_col] = np.where(\n",
    "        spread_df.groupby('Ticker Pair')[col].shift(1)== 'Buy',\n",
    "        spread_df['Return'],\n",
    "        np.where(spread_df.groupby('Ticker Pair')[col].shift(1) == 'Sell', -spread_df['Return'], np.nan)\n",
    "    )\n"
   ]
  },
  {
   "cell_type": "code",
   "execution_count": 23,
   "id": "2ad5ffb3-6e42-45a2-a424-883b814086d6",
   "metadata": {},
   "outputs": [],
   "source": [
    "spread_df['CHRONOBERT Cumulative Return'] =spread_df.groupby('Ticker Pair')['CHRONOBERT Strategy Return'].apply(lambda x: (1 + x.fillna(0)).cumprod()).tolist()\n",
    "spread_df['BERT Cumulative Return'] =spread_df.groupby('Ticker Pair')['BERT Strategy Return'].apply(lambda x: (1 + x.fillna(0)).cumprod()).tolist()\n",
    "spread_df['Traditional Cumulative Return'] =spread_df.groupby('Ticker Pair')['Traditional Strategy Return'].apply(lambda x: (1 + x.fillna(0)).cumprod()).tolist()"
   ]
  },
  {
   "cell_type": "code",
   "execution_count": 27,
   "id": "8f7fcdc0-bae7-4bda-b9bf-ad864ce1d5bb",
   "metadata": {},
   "outputs": [
    {
     "name": "stdout",
     "output_type": "stream",
     "text": [
      "           Ticker Pair  CHRONOBERT Strategy Return  BERT Strategy Return  \\\n",
      "Date                                                                       \n",
      "2019-02-28    AMD-NVDA                         NaN                   NaN   \n",
      "2019-03-31    AMD-NVDA                   -0.079436             -0.079436   \n",
      "2019-04-30    AMD-NVDA                    0.074660              0.074660   \n",
      "2019-05-31    AMD-NVDA                    0.242786              0.242786   \n",
      "2019-06-30    AMD-NVDA                    0.104398              0.104398   \n",
      "\n",
      "            Traditional Strategy Return  CHRONOBERT Cumulative Return  \\\n",
      "Date                                                                    \n",
      "2019-02-28                          NaN                      1.000000   \n",
      "2019-03-31                     0.079436                      1.052117   \n",
      "2019-04-30                     0.074660                      0.970518   \n",
      "2019-05-31                     0.242786                      1.042730   \n",
      "2019-06-30                     0.104398                      1.064087   \n",
      "\n",
      "            BERT Cumulative Return  Traditional Cumulative Return  \n",
      "Date                                                               \n",
      "2019-02-28                1.000000                       1.000000  \n",
      "2019-03-31                1.052117                       1.052117  \n",
      "2019-04-30                0.970518                       0.970518  \n",
      "2019-05-31                1.042730                       1.042730  \n",
      "2019-06-30                1.021372                       1.064087  \n"
     ]
    }
   ],
   "source": [
    "# Select the relevant columns for CHRONOBERT, BERT, and Traditional strategy returns\n",
    "columns_to_save = [\n",
    "    'Ticker Pair', \n",
    "    'CHRONOBERT Strategy Return', 'BERT Strategy Return', 'Traditional Strategy Return',\n",
    "    'CHRONOBERT Cumulative Return', 'BERT Cumulative Return', 'Traditional Cumulative Return'\n",
    "]\n",
    "\n",
    "# Filter the dataframe to include only these columns\n",
    "strategy_returns_df = spread_df[columns_to_save]\n",
    "\n",
    "# Save to a CSV file\n",
    "strategy_returns_df.to_csv('outputs/portfolios.csv', index=True)\n",
    "\n",
    "# Optionally, print the dataframe to confirm the result\n",
    "print(strategy_returns_df.head())\n"
   ]
  },
  {
   "cell_type": "code",
   "execution_count": 15,
   "id": "de41bfd0-4787-4a80-8b29-68504f53ea0d",
   "metadata": {},
   "outputs": [
    {
     "name": "stdout",
     "output_type": "stream",
     "text": [
      "R²: 0.9402\n",
      "MSE: 0.0558\n"
     ]
    }
   ],
   "source": [
    "from sklearn.metrics import r2_score, mean_squared_error\n",
    "\n",
    "y_true = spread_df[\"Spread\"]\n",
    "y_pred = spread_df[\"CHRONOBERT Spread\"]\n",
    "\n",
    "# R² and MSE\n",
    "r2 = r2_score(y_true, y_pred)\n",
    "mse = mean_squared_error(y_true, y_pred)\n",
    "\n",
    "print(f\"R²: {r2:.4f}\")\n",
    "print(f\"MSE: {mse:.4f}\")\n"
   ]
  },
  {
   "cell_type": "code",
   "execution_count": null,
   "id": "03edc2ed-59d1-4051-b07c-960d87ad4640",
   "metadata": {},
   "outputs": [],
   "source": []
  }
 ],
 "metadata": {
  "kernelspec": {
   "display_name": "Python [conda env:base] *",
   "language": "python",
   "name": "conda-base-py"
  },
  "language_info": {
   "codemirror_mode": {
    "name": "ipython",
    "version": 3
   },
   "file_extension": ".py",
   "mimetype": "text/x-python",
   "name": "python",
   "nbconvert_exporter": "python",
   "pygments_lexer": "ipython3",
   "version": "3.12.7"
  }
 },
 "nbformat": 4,
 "nbformat_minor": 5
}
