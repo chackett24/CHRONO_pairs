{
 "cells": [
  {
   "cell_type": "code",
   "execution_count": 7,
   "id": "28b8907d-13bb-4a5d-bb42-278addf9b07c",
   "metadata": {},
   "outputs": [
    {
     "name": "stdout",
     "output_type": "stream",
     "text": [
      "           Ticker Pair     Spread  CHRONOBERT Spread CHRONOBERT Position  \\\n",
      "Date                                                                       \n",
      "2019-02-28    AMD-NVDA  19.700950          20.694379               Short   \n",
      "2019-03-31    AMD-NVDA  21.062952          20.786423                Long   \n",
      "2019-04-30    AMD-NVDA  23.137207          24.432584               Short   \n",
      "2019-05-31    AMD-NVDA  24.043767          27.089826               Short   \n",
      "2019-06-30    AMD-NVDA  26.288822          25.820515                Long   \n",
      "2019-07-31    AMD-NVDA  26.257243          25.788969                Long   \n",
      "2019-08-31    AMD-NVDA  27.283192          30.441618               Short   \n",
      "2019-09-30    AMD-NVDA  24.660011          26.194881               Short   \n",
      "2019-10-31    AMD-NVDA  28.929632          27.990683                Long   \n",
      "2019-11-30    AMD-NVDA  33.754620          34.839740               Short   \n",
      "\n",
      "            BERT Spread BERT Position  Traditional Spread Traditional Position  \n",
      "Date                                                                            \n",
      "2019-02-28    19.995850         Short           22.949641                Short  \n",
      "2019-03-31    25.112632         Short           19.839439                 Long  \n",
      "2019-04-30    22.283446          Long           22.080863                 Long  \n",
      "2019-05-31    28.664347         Short           21.897829                 Long  \n",
      "2019-06-30    27.546142         Short           28.019637                Short  \n",
      "2019-07-31    26.146420          Long           21.654166                 Long  \n",
      "2019-08-31    24.643467          Long           30.772816                Short  \n",
      "2019-09-30    25.470155         Short           23.137597                 Long  \n",
      "2019-10-31    28.558621          Long           29.567710                Short  \n",
      "2019-11-30    33.551275          Long           33.255879                 Long  \n"
     ]
    }
   ],
   "source": [
    "import pandas as pd\n",
    "\n",
    "spread_df = pd.read_csv(\"outputs/spreads.csv\", parse_dates=[\"Date\"])\n",
    "spread_df.set_index(\"Date\", inplace=True)\n",
    "\n",
    "chrono_df = pd.read_csv(\"outputs/chrono_dummy.csv\", parse_dates=[\"Date\"])\n",
    "chrono_df.set_index(\"Date\", inplace=True)\n",
    "\n",
    "bert_df = pd.read_csv(\"outputs/bert_dummy.csv\", parse_dates=[\"Date\"])\n",
    "bert_df.set_index(\"Date\", inplace=True)\n",
    "\n",
    "traditional_df = pd.read_csv(\"outputs/traditional_dummy.csv\", parse_dates=[\"Date\"])\n",
    "traditional_df.set_index(\"Date\", inplace=True)\n",
    "\n",
    "\n",
    "spread_df = spread_df.merge(chrono_df, how=\"inner\", on=[\"Date\", \"Ticker Pair\"], validate='one_to_one')\n",
    "spread_df = spread_df.merge(bert_df, how=\"inner\", on=[\"Date\", \"Ticker Pair\"], validate='one_to_one')\n",
    "spread_df = spread_df.merge(traditional_df, how=\"inner\", on=[\"Date\", \"Ticker Pair\"], validate='one_to_one')\n",
    "\n",
    "print(spread_df.head(10))"
   ]
  },
  {
   "cell_type": "code",
   "execution_count": null,
   "id": "b9695e79-fef1-4135-b9f3-715bfd0d1868",
   "metadata": {},
   "outputs": [],
   "source": []
  }
 ],
 "metadata": {
  "kernelspec": {
   "display_name": "Python 3 (ipykernel)",
   "language": "python",
   "name": "python3"
  },
  "language_info": {
   "codemirror_mode": {
    "name": "ipython",
    "version": 3
   },
   "file_extension": ".py",
   "mimetype": "text/x-python",
   "name": "python",
   "nbconvert_exporter": "python",
   "pygments_lexer": "ipython3",
   "version": "3.12.7"
  }
 },
 "nbformat": 4,
 "nbformat_minor": 5
}
