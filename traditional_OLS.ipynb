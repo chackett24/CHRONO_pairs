{
 "cells": [
  {
   "cell_type": "markdown",
   "id": "156257ae-f0cd-4cbe-bb92-baa016a85162",
   "metadata": {},
   "source": [
    "# Method - OLS"
   ]
  },
  {
   "cell_type": "markdown",
   "id": "a096799f-19c2-4182-9107-27864a270001",
   "metadata": {},
   "source": [
    "# Independent variable - Return\n",
    "## Spreadt​=β0​+β1​⋅Returnt​+ϵt​"
   ]
  },
  {
   "cell_type": "code",
   "execution_count": 6,
   "id": "10e32941-0cae-490c-be20-82007894d1b9",
   "metadata": {},
   "outputs": [
    {
     "data": {
      "text/html": [
       "<div>\n",
       "<style scoped>\n",
       "    .dataframe tbody tr th:only-of-type {\n",
       "        vertical-align: middle;\n",
       "    }\n",
       "\n",
       "    .dataframe tbody tr th {\n",
       "        vertical-align: top;\n",
       "    }\n",
       "\n",
       "    .dataframe thead th {\n",
       "        text-align: right;\n",
       "    }\n",
       "</style>\n",
       "<table border=\"1\" class=\"dataframe\">\n",
       "  <thead>\n",
       "    <tr style=\"text-align: right;\">\n",
       "      <th></th>\n",
       "      <th>Date</th>\n",
       "      <th>Ticker Pair</th>\n",
       "      <th>Spread</th>\n",
       "      <th>Return</th>\n",
       "    </tr>\n",
       "  </thead>\n",
       "  <tbody>\n",
       "    <tr>\n",
       "      <th>0</th>\n",
       "      <td>2016-01-10</td>\n",
       "      <td>AAPL-MSFT</td>\n",
       "      <td>-0.544055</td>\n",
       "      <td>NaN</td>\n",
       "    </tr>\n",
       "    <tr>\n",
       "      <th>1</th>\n",
       "      <td>2016-01-17</td>\n",
       "      <td>AAPL-MSFT</td>\n",
       "      <td>-0.165858</td>\n",
       "      <td>0.027360</td>\n",
       "    </tr>\n",
       "    <tr>\n",
       "      <th>2</th>\n",
       "      <td>2016-01-24</td>\n",
       "      <td>AAPL-MSFT</td>\n",
       "      <td>0.080579</td>\n",
       "      <td>0.018672</td>\n",
       "    </tr>\n",
       "    <tr>\n",
       "      <th>3</th>\n",
       "      <td>2016-01-31</td>\n",
       "      <td>AAPL-MSFT</td>\n",
       "      <td>-1.192595</td>\n",
       "      <td>-0.093776</td>\n",
       "    </tr>\n",
       "    <tr>\n",
       "      <th>4</th>\n",
       "      <td>2016-02-07</td>\n",
       "      <td>AAPL-MSFT</td>\n",
       "      <td>-0.312257</td>\n",
       "      <td>0.060624</td>\n",
       "    </tr>\n",
       "  </tbody>\n",
       "</table>\n",
       "</div>"
      ],
      "text/plain": [
       "         Date Ticker Pair    Spread    Return\n",
       "0  2016-01-10   AAPL-MSFT -0.544055       NaN\n",
       "1  2016-01-17   AAPL-MSFT -0.165858  0.027360\n",
       "2  2016-01-24   AAPL-MSFT  0.080579  0.018672\n",
       "3  2016-01-31   AAPL-MSFT -1.192595 -0.093776\n",
       "4  2016-02-07   AAPL-MSFT -0.312257  0.060624"
      ]
     },
     "execution_count": 6,
     "metadata": {},
     "output_type": "execute_result"
    }
   ],
   "source": [
    "import pandas as pd\n",
    "import statsmodels.api as sm\n",
    "\n",
    "train_data = pd.read_csv('outputs/spreads_weekly_large.csv')\n",
    "\n",
    "test_data = pd.read_csv('outputs/spreads_testing.csv')\n",
    "\n",
    "train_data.head()"
   ]
  },
  {
   "cell_type": "code",
   "execution_count": 7,
   "id": "d0593a15-c1fb-45ab-baa3-c8614b3bbd70",
   "metadata": {},
   "outputs": [
    {
     "data": {
      "text/plain": [
       "Index(['Date', 'Ticker Pair', 'Spread', 'Return'], dtype='object')"
      ]
     },
     "execution_count": 7,
     "metadata": {},
     "output_type": "execute_result"
    }
   ],
   "source": [
    "train_data.columns"
   ]
  },
  {
   "cell_type": "code",
   "execution_count": 8,
   "id": "4fd79e88-afca-4f17-9757-3e77f2efd9c8",
   "metadata": {},
   "outputs": [
    {
     "name": "stdout",
     "output_type": "stream",
     "text": [
      "['2016' '2017' '2018']\n"
     ]
    }
   ],
   "source": [
    "train_data['Year'] = train_data['Date'].str[:4]\n",
    "print(train_data['Year'].unique())"
   ]
  },
  {
   "cell_type": "code",
   "execution_count": 12,
   "id": "acb51b64-e14d-42f5-a7de-40101d7fa144",
   "metadata": {},
   "outputs": [],
   "source": [
    "results = []\n",
    "\n",
    "for pair in train_data[\"Ticker Pair\"].unique():\n",
    "    train = train_data[train_data[\"Ticker Pair\"] == pair].copy()\n",
    "    test = test_data[test_data[\"Ticker Pair\"] == pair].copy()\n",
    "\n",
    "    train = train.dropna(subset=[\"Return\", \"Spread\"])\n",
    "    test = test.dropna(subset=[\"Return\"])\n",
    "\n",
    "    if len(train) < 10 or len(test) < 1:\n",
    "        continue\n",
    "\n",
    "    results.append((pair, train, test))"
   ]
  },
  {
   "cell_type": "code",
   "execution_count": 14,
   "id": "26632229-5a2d-4fdf-92fb-3fd0c2aeee06",
   "metadata": {},
   "outputs": [],
   "source": [
    "from sklearn.pipeline import Pipeline\n",
    "from sklearn.linear_model import LinearRegression\n",
    "from sklearn.preprocessing import StandardScaler\n",
    "import numpy as np\n",
    "\n",
    "final_predictions = []\n",
    "threshold = 0  \n",
    "\n",
    "for pair, train, test in results:\n",
    "    pipeline = Pipeline([\n",
    "        (\"scaler\", StandardScaler()),\n",
    "        (\"regressor\", LinearRegression())\n",
    "    ])\n",
    "\n",
    "    X_train = train[[\"Return\"]]\n",
    "    y_train = train[\"Spread\"]\n",
    "    pipeline.fit(X_train, y_train)\n",
    "\n",
    "    X_test = test[[\"Return\"]]\n",
    "    test[\"Traditional_Spread\"] = pipeline.predict(X_test)\n",
    "\n",
    "    test[\"Ticker Pair\"] = pair\n",
    "\n",
    "    final_predictions.append(test[[\"Date\", \"Ticker Pair\", \"Traditional_Spread\"]])"
   ]
  },
  {
   "cell_type": "code",
   "execution_count": 17,
   "id": "a8d4e15d-17ff-45bd-a61f-f04afe72f7a6",
   "metadata": {},
   "outputs": [
    {
     "name": "stdout",
     "output_type": "stream",
     "text": [
      "         Date Ticker Pair  Traditional_Spread\n",
      "0  2019-01-13   AAPL-MSFT            0.176369\n",
      "1  2019-01-20   AAPL-MSFT           -0.147277\n",
      "2  2019-01-27   AAPL-MSFT            0.108935\n",
      "3  2019-02-03   AAPL-MSFT            0.863532\n",
      "4  2019-02-10   AAPL-MSFT            0.008510\n"
     ]
    }
   ],
   "source": [
    "all_predictions = pd.concat(final_predictions, ignore_index=True)\n",
    "\n",
    "all_predictions.to_csv(\"outputs/Traditional Spreads weekly Return.csv\", index=False)\n",
    "\n",
    "print(all_predictions.head())"
   ]
  },
  {
   "cell_type": "code",
   "execution_count": 20,
   "id": "955caaf8-4121-44ab-ad10-dc18f6749389",
   "metadata": {},
   "outputs": [
    {
     "name": "stdout",
     "output_type": "stream",
     "text": [
      "rows： 510\n",
      "columns： 3\n"
     ]
    }
   ],
   "source": [
    "df = pd.read_csv(\"outputs/Traditional Spreads weekly Return.csv\")\n",
    "\n",
    "print(\"rows：\", df.shape[0])\n",
    "print(\"columns：\", df.shape[1])"
   ]
  },
  {
   "cell_type": "markdown",
   "id": "cbc79ed4-4e23-4fb8-9b38-85dc8570ca01",
   "metadata": {},
   "source": [
    "# Independent variable - Spread(t-1)\n",
    "## Spreadt​=β0​+β1​⋅Spread(t−1)​+ϵt"
   ]
  },
  {
   "cell_type": "code",
   "execution_count": 22,
   "id": "be2046fb-5761-4f92-8ebf-7a6d858fc462",
   "metadata": {},
   "outputs": [],
   "source": [
    "import pandas as pd\n",
    "from sklearn.linear_model import LinearRegression\n",
    "from sklearn.pipeline import Pipeline\n",
    "from sklearn.preprocessing import StandardScaler\n",
    "import numpy as np\n",
    "\n",
    "train_df = pd.read_csv(\"outputs/spreads_weekly_large.csv\", parse_dates=[\"Date\"])\n",
    "test_df = pd.read_csv(\"outputs/spreads_testing.csv\", parse_dates=[\"Date\"])"
   ]
  },
  {
   "cell_type": "code",
   "execution_count": 24,
   "id": "819980c1-acfd-401d-94f7-991ce20e1262",
   "metadata": {},
   "outputs": [],
   "source": [
    "pairs = train_df[\"Ticker Pair\"].unique()\n",
    "\n",
    "results = []\n",
    "\n",
    "for pair in pairs:\n",
    "    train = train_df[train_df[\"Ticker Pair\"] == pair].copy()\n",
    "    test = test_df[test_df[\"Ticker Pair\"] == pair].copy()\n",
    "\n",
    "    train[\"Spread_lag1\"] = train[\"Spread\"].shift(1)\n",
    "    train.dropna(inplace=True)  \n",
    "\n",
    "    combined = pd.concat([train.tail(1)[[\"Spread\"]], test[[\"Spread\"]]], ignore_index=True)\n",
    "    test_clean = test[[\"Date\", \"Ticker Pair\"]].copy()\n",
    "    test_clean[\"Spread_lag1\"] = combined[\"Spread\"].shift(1).iloc[1:].values\n",
    "\n",
    "    results.append((pair, train, test_clean))"
   ]
  },
  {
   "cell_type": "code",
   "execution_count": 26,
   "id": "0f0f4c4d-b41b-4876-9221-6a1d56ab3803",
   "metadata": {},
   "outputs": [],
   "source": [
    "from sklearn.pipeline import Pipeline\n",
    "from sklearn.linear_model import LinearRegression\n",
    "from sklearn.preprocessing import StandardScaler\n",
    "import numpy as np\n",
    "\n",
    "final_predictions = []\n",
    "\n",
    "threshold = 1\n",
    "\n",
    "for pair, train, test_clean in results:\n",
    "    pipeline = Pipeline([\n",
    "        (\"scaler\", StandardScaler()),\n",
    "        (\"regressor\", LinearRegression())\n",
    "    ])\n",
    "\n",
    "    X_train = train[[\"Spread_lag1\"]]\n",
    "    y_train = train[\"Spread\"]\n",
    "    pipeline.fit(X_train, y_train)\n",
    "\n",
    "    X_test = test_clean[[\"Spread_lag1\"]]\n",
    "    test_clean[\"Predicted_Spread\"] = pipeline.predict(X_test)\n",
    "\n",
    "    final_predictions.append(test_clean)"
   ]
  },
  {
   "cell_type": "code",
   "execution_count": 28,
   "id": "5f5ac9c5-ea2a-4a3b-9458-05e5aed47966",
   "metadata": {},
   "outputs": [
    {
     "name": "stdout",
     "output_type": "stream",
     "text": [
      "        Date Ticker Pair  Traditional_Spread\n",
      "0 2019-01-06   AAPL-MSFT           -2.919420\n",
      "1 2019-01-13   AAPL-MSFT           -1.101712\n",
      "2 2019-01-20   AAPL-MSFT           -0.868813\n",
      "3 2019-01-27   AAPL-MSFT           -1.089315\n",
      "4 2019-02-03   AAPL-MSFT           -0.949445\n"
     ]
    }
   ],
   "source": [
    "all_predictions = pd.concat(final_predictions, ignore_index=True)\n",
    "\n",
    "all_predictions.rename(columns={\"Predicted_Spread\": \"Traditional_Spread\"}, inplace=True)\n",
    "all_predictions.drop(columns=[\"Spread_lag1\"], inplace=True)\n",
    "\n",
    "all_predictions.to_csv(\"outputs/Traditional Spreads weekly (t-1).csv\", index=False)\n",
    "\n",
    "print(all_predictions.head())"
   ]
  },
  {
   "cell_type": "code",
   "execution_count": 30,
   "id": "ef1085a1-49bf-45bb-ae33-e365bd8e03f3",
   "metadata": {},
   "outputs": [
    {
     "name": "stdout",
     "output_type": "stream",
     "text": [
      "rows： 520\n",
      "columns： 3\n"
     ]
    }
   ],
   "source": [
    "df = pd.read_csv(\"outputs/Traditional Spreads weekly (t-1).csv\")\n",
    "\n",
    "print(\"rows：\", df.shape[0])\n",
    "print(\"columns：\", df.shape[1])"
   ]
  },
  {
   "cell_type": "markdown",
   "id": "c95bb72d-23e0-43ac-8db6-69b557d6f81f",
   "metadata": {},
   "source": [
    "# Note\n",
    "Although I used both return and T-1 models to predict spreads, we ultimately decided to adopt the return-based model's predictions. This is because the return model dynamically captures market characteristics of spread fluctuations, incorporates multi-factor information, and reflects real-time market changes, significantly improving prediction accuracy and adaptability. In contrast, the T-1 model merely lags historical spread data—it cannot adapt to market shifts, ignores core spread dynamics, and essentially just repeats past data rather than providing meaningful forecasts. Thus, we chose the more predictive return-based approach."
   ]
  },
  {
   "cell_type": "code",
   "execution_count": null,
   "id": "4c53a31e-ec29-4a3d-b973-275e9691259c",
   "metadata": {},
   "outputs": [],
   "source": []
  }
 ],
 "metadata": {
  "kernelspec": {
   "display_name": "Python [conda env:base] *",
   "language": "python",
   "name": "conda-base-py"
  },
  "language_info": {
   "codemirror_mode": {
    "name": "ipython",
    "version": 3
   },
   "file_extension": ".py",
   "mimetype": "text/x-python",
   "name": "python",
   "nbconvert_exporter": "python",
   "pygments_lexer": "ipython3",
   "version": "3.12.7"
  }
 },
 "nbformat": 4,
 "nbformat_minor": 5
}
