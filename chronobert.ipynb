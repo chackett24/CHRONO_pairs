{
 "cells": [
  {
   "cell_type": "code",
   "execution_count": null,
   "id": "bd69d378-b3cf-4d1f-84f2-3f95b2ba2d1a",
   "metadata": {},
   "outputs": [],
   "source": [
    "pip install -U transformers>=4.48.0\n",
    "pip install flash-attn\n",
    "\n",
    "\n",
    "from transformers import AutoTokenizer, AutoModel\n",
    "\n",
    "# Load the tokenizer\n",
    "tokenizer = AutoTokenizer.from_pretrained(\"manelalab/chrono-bert-v1-20141231\")\n",
    "\n",
    "# Load the model\n",
    "model = AutoModel.from_pretrained(\"manelalab/chrono-bert-v1-20141231\")\n"
   ]
  }
 ],
 "metadata": {
  "kernelspec": {
   "display_name": "Python 3 (ipykernel)",
   "language": "python",
   "name": "python3"
  },
  "language_info": {
   "codemirror_mode": {
    "name": "ipython",
    "version": 3
   },
   "file_extension": ".py",
   "mimetype": "text/x-python",
   "name": "python",
   "nbconvert_exporter": "python",
   "pygments_lexer": "ipython3",
   "version": "3.12.7"
  }
 },
 "nbformat": 4,
 "nbformat_minor": 5
}
