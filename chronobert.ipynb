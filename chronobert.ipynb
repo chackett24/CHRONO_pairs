{
 "cells": [
  {
   "cell_type": "code",
   "execution_count": 16,
   "id": "a5919dc6",
   "metadata": {},
   "outputs": [
    {
     "data": {
      "application/vnd.microsoft.datawrangler.viewer.v0+json": {
       "columns": [
        {
         "name": "index",
         "rawType": "int64",
         "type": "integer"
        },
        {
         "name": "Date",
         "rawType": "object",
         "type": "string"
        },
        {
         "name": "Ticker_Pair",
         "rawType": "object",
         "type": "string"
        },
        {
         "name": "Spread",
         "rawType": "float64",
         "type": "float"
        },
        {
         "name": "Return",
         "rawType": "float64",
         "type": "float"
        },
        {
         "name": "chronobert_text",
         "rawType": "object",
         "type": "string"
        }
       ],
       "conversionMethod": "pd.DataFrame",
       "ref": "8925efb4-f91d-4ab3-aabf-13e537fc0f1b",
       "rows": [
        [
         "0",
         "2019-02-28",
         "AMD-NVDA",
         "-1.3195447824671729",
         null,
         "on February 28, 2019, the spread between AMD and NVDA was -1.3195447824671729."
        ],
        [
         "1",
         "2019-03-31",
         "AMD-NVDA",
         "-2.016618713771842",
         "-0.0794357214284673",
         "on March 31, 2019, the spread between AMD and NVDA was -2.016618713771842."
        ],
        [
         "2",
         "2019-04-30",
         "AMD-NVDA",
         "-1.3119697496362264",
         "0.0746601760238492",
         "on April 30, 2019, the spread between AMD and NVDA was -1.3119697496362264."
        ],
        [
         "3",
         "2019-05-31",
         "AMD-NVDA",
         "1.4561294754854732",
         "0.2427859080761483",
         "on May 31, 2019, the spread between AMD and NVDA was 1.4561294754854732."
        ],
        [
         "4",
         "2019-06-30",
         "AMD-NVDA",
         "0.5681220041969327",
         "-0.1043977369358117",
         "on June 30, 2019, the spread between AMD and NVDA was 0.5681220041969327."
        ]
       ],
       "shape": {
        "columns": 5,
        "rows": 5
       }
      },
      "text/html": [
       "<div>\n",
       "<style scoped>\n",
       "    .dataframe tbody tr th:only-of-type {\n",
       "        vertical-align: middle;\n",
       "    }\n",
       "\n",
       "    .dataframe tbody tr th {\n",
       "        vertical-align: top;\n",
       "    }\n",
       "\n",
       "    .dataframe thead th {\n",
       "        text-align: right;\n",
       "    }\n",
       "</style>\n",
       "<table border=\"1\" class=\"dataframe\">\n",
       "  <thead>\n",
       "    <tr style=\"text-align: right;\">\n",
       "      <th></th>\n",
       "      <th>Date</th>\n",
       "      <th>Ticker_Pair</th>\n",
       "      <th>Spread</th>\n",
       "      <th>Return</th>\n",
       "      <th>chronobert_text</th>\n",
       "    </tr>\n",
       "  </thead>\n",
       "  <tbody>\n",
       "    <tr>\n",
       "      <th>0</th>\n",
       "      <td>2019-02-28</td>\n",
       "      <td>AMD-NVDA</td>\n",
       "      <td>-1.319545</td>\n",
       "      <td>NaN</td>\n",
       "      <td>on February 28, 2019, the spread between AMD a...</td>\n",
       "    </tr>\n",
       "    <tr>\n",
       "      <th>1</th>\n",
       "      <td>2019-03-31</td>\n",
       "      <td>AMD-NVDA</td>\n",
       "      <td>-2.016619</td>\n",
       "      <td>-0.079436</td>\n",
       "      <td>on March 31, 2019, the spread between AMD and ...</td>\n",
       "    </tr>\n",
       "    <tr>\n",
       "      <th>2</th>\n",
       "      <td>2019-04-30</td>\n",
       "      <td>AMD-NVDA</td>\n",
       "      <td>-1.311970</td>\n",
       "      <td>0.074660</td>\n",
       "      <td>on April 30, 2019, the spread between AMD and ...</td>\n",
       "    </tr>\n",
       "    <tr>\n",
       "      <th>3</th>\n",
       "      <td>2019-05-31</td>\n",
       "      <td>AMD-NVDA</td>\n",
       "      <td>1.456129</td>\n",
       "      <td>0.242786</td>\n",
       "      <td>on May 31, 2019, the spread between AMD and NV...</td>\n",
       "    </tr>\n",
       "    <tr>\n",
       "      <th>4</th>\n",
       "      <td>2019-06-30</td>\n",
       "      <td>AMD-NVDA</td>\n",
       "      <td>0.568122</td>\n",
       "      <td>-0.104398</td>\n",
       "      <td>on June 30, 2019, the spread between AMD and N...</td>\n",
       "    </tr>\n",
       "  </tbody>\n",
       "</table>\n",
       "</div>"
      ],
      "text/plain": [
       "         Date Ticker_Pair    Spread    Return  \\\n",
       "0  2019-02-28    AMD-NVDA -1.319545       NaN   \n",
       "1  2019-03-31    AMD-NVDA -2.016619 -0.079436   \n",
       "2  2019-04-30    AMD-NVDA -1.311970  0.074660   \n",
       "3  2019-05-31    AMD-NVDA  1.456129  0.242786   \n",
       "4  2019-06-30    AMD-NVDA  0.568122 -0.104398   \n",
       "\n",
       "                                     chronobert_text  \n",
       "0  on February 28, 2019, the spread between AMD a...  \n",
       "1  on March 31, 2019, the spread between AMD and ...  \n",
       "2  on April 30, 2019, the spread between AMD and ...  \n",
       "3  on May 31, 2019, the spread between AMD and NV...  \n",
       "4  on June 30, 2019, the spread between AMD and N...  "
      ]
     },
     "execution_count": 16,
     "metadata": {},
     "output_type": "execute_result"
    }
   ],
   "source": [
    "import pandas as pd\n",
    "\n",
    "\n",
    "df = pd.read_csv(\"outputs/spreads.csv\")\n",
    "\n",
    "\n",
    "df[\"formatted_date\"] = pd.to_datetime(df[\"Date\"]).dt.strftime(\"on %B %-d, %Y\")\n",
    "df.rename(columns={\"Ticker Pair\": \"Ticker_Pair\"}, inplace=True)\n",
    "\n",
    "\n",
    "df[[\"tick1\", \"tick2\"]] = df[\"Ticker_Pair\"].str.split(\"-\", expand=True)\n",
    "\n",
    "\n",
    "df[\"chronobert_text\"] = (\n",
    "    df[\"formatted_date\"] + \", the spread between \" +\n",
    "    df[\"tick1\"] + \" and \" + df[\"tick2\"] +\n",
    "    \" was \" + df[\"Spread\"].astype(str) + \".\"\n",
    ")\n",
    "\n",
    "\n",
    "df.drop(columns=[\"formatted_date\", \"tick1\", \"tick2\"], inplace=True)\n",
    "df.head()"
   ]
  },
  {
   "cell_type": "code",
   "execution_count": null,
   "id": "bd69d378-b3cf-4d1f-84f2-3f95b2ba2d1a",
   "metadata": {},
   "outputs": [],
   "source": [
    "from transformers import pipeline\n",
    "\n",
    "fill_mask = pipeline(\n",
    "    \"fill-mask\",\n",
    "    model=\"manelalab/chrono-bert-v1-19991231\",\n",
    "    tokenizer=\"manelalab/chrono-bert-v1-19991231\"\n",
    ")\n",
    "\n",
    "text = \"\"\n",
    "for sentence in df[\"chronobert_text\"]:\n",
    "    text += sentence + \" \"\n",
    "\n",
    "results = fill_mask(text)\n",
    "\n",
    "for r in results:\n",
    "    print(f\"{r['sequence']} — score: {r['score']:.4f}\")\n"
   ]
  }
 ],
 "metadata": {
  "kernelspec": {
   "display_name": "Python 3 (ipykernel)",
   "language": "python",
   "name": "python3"
  },
  "language_info": {
   "codemirror_mode": {
    "name": "ipython",
    "version": 3
   },
   "file_extension": ".py",
   "mimetype": "text/x-python",
   "name": "python",
   "nbconvert_exporter": "python",
   "pygments_lexer": "ipython3",
   "version": "3.12.7"
  }
 },
 "nbformat": 4,
 "nbformat_minor": 5
}
