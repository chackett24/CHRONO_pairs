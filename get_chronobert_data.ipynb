{
 "cells": [
  {
   "cell_type": "code",
   "execution_count": null,
   "id": "96c29eb8-2004-4d55-837e-68643ff220e9",
   "metadata": {},
   "outputs": [],
   "source": [
    "pip install -U transformers>=4.48.0\n",
    "pip install flash-attn\n",
    "\n",
    "\n",
    "from transformers import AutoTokenizer, AutoModel\n",
    "\n",
    "# Load the tokenizer\n",
    "tokenizer = AutoTokenizer.from_pretrained(\"manelalab/chrono-bert-v1-20141231\")\n",
    "\n",
    "# Load the model\n",
    "model = AutoModel.from_pretrained(\"manelalab/chrono-bert-v1-20141231\")\n",
    "\n",
    "\n"
   ]
  }
 ],
 "metadata": {
  "kernelspec": {
   "display_name": "Python [conda env:base] *",
   "language": "python",
   "name": "conda-base-py"
  },
  "language_info": {
   "codemirror_mode": {
    "name": "ipython",
    "version": 3
   },
   "file_extension": ".py",
   "mimetype": "text/x-python",
   "name": "python",
   "nbconvert_exporter": "python",
   "pygments_lexer": "ipython3",
   "version": "3.11.7"
  }
 },
 "nbformat": 4,
 "nbformat_minor": 5
}
